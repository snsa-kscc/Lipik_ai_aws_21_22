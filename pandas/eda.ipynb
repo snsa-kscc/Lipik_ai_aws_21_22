{
 "cells": [
  {
   "cell_type": "markdown",
   "metadata": {},
   "source": [
    "# 02dec2021 \n",
    "# Content\n",
    "1. Što je EDA \n",
    "2. Koje su vrste analize podataka \n",
    "3. Pandas - instalacija libraryja u environment\n",
    "4. Objekti u Pandasu - Dataframe vs DataSeries\n",
    "5. Import podataka\n",
    "6. Relacije\n",
    "7. Najčešće korištene metode"
   ]
  },
  {
   "cell_type": "markdown",
   "metadata": {},
   "source": [
    "## EDA - Zašto?\n",
    "- Get maximum insights from a data set.\n",
    "- Uncover underlying structure.\n",
    "- Extract important variables from the dataset.\n",
    "- Detect outliers and anomalies(if any)\n",
    "- Test underlying assumptions.\n",
    "- Determine the optimal factor settings.\n",
    "\n",
    "- Resources:\n",
    "    - [https://www.analyticsvidhya.com/blog/2021/08/how-to-perform-exploratory-data-analysis-a-guide-for-beginners/](https://www.analyticsvidhya.com/blog/2021/08/how-to-perform-exploratory-data-analysis-a-guide-for-beginners/)\n",
    "    - [https://towardsdatascience.com/exploratory-data-analysis-8fc1cb20fd15](https://towardsdatascience.com/exploratory-data-analysis-8fc1cb20fd15)\n",
    "    - [https://www.analyticsvidhya.com/blog/2021/04/mastering-exploratory-data-analysiseda-for-data-science-enthusiasts/](https://www.analyticsvidhya.com/blog/2021/04/mastering-exploratory-data-analysiseda-for-data-science-enthusiasts/)"
   ]
  },
  {
   "cell_type": "markdown",
   "metadata": {},
   "source": [
    "## Inferential vs Descriptive statistics\n",
    "- Deskriptivna se odnosi na razumijevanje uzorka\n",
    "    - srednje vrijednosti, modovi, medijani\n",
    "    - odstupanja, maximumi, minimumi\n",
    "    - distribucija podataka\n",
    "- Inferencijalna statistika se odnosi na razumijevanje populacije\n",
    "    - i dalje se analizira uzorak!\n",
    "    - ali se na temelju njega donose hipoteze (ili ide hipoteza pa analiza) koje se onda testiraju na cijeloj populaciji\n",
    "    - ...\n",
    "\n",
    "- Resources:\n",
    "    - [https://towardsdatascience.com/fundamentals-of-statistics-for-data-scientists-and-data-analysts-69d93a05aae7](https://towardsdatascience.com/fundamentals-of-statistics-for-data-scientists-and-data-analysts-69d93a05aae7)\n",
    "    - [https://www.statisticshowto.com/probability-and-statistics/statistics-definitions/inferential-statistics/](https://www.statisticshowto.com/probability-and-statistics/statistics-definitions/inferential-statistics/)\n",
    "    - [https://www.indeed.com/career-advice/career-development/descriptive-vs-inferential-statistics](https://www.indeed.com/career-advice/career-development/descriptive-vs-inferential-statistics)"
   ]
  },
  {
   "cell_type": "markdown",
   "metadata": {},
   "source": [
    "## Alat - Pandas\n",
    "- [https://pandas.pydata.org/docs/getting_started/install.html](https://pandas.pydata.org/docs/getting_started/install.html)\n",
    "- [https://pandas.pydata.org/pandas-docs/version/0.13.1/generated/pandas.DataFrame.html](https://pandas.pydata.org/pandas-docs/version/0.13.1/generated/pandas.DataFrame.html)\n",
    "\n",
    "----\n",
    "\n",
    "## Pandas Series objekt\n",
    "- sličan listama\n",
    "- predstavlja 'jedan column' u tablicama"
   ]
  },
  {
   "cell_type": "code",
   "execution_count": 10,
   "metadata": {},
   "outputs": [
    {
     "name": "stdout",
     "output_type": "stream",
     "text": [
      "<class 'pandas.core.series.Series'>\n"
     ]
    }
   ],
   "source": [
    "# import os\n",
    "import pandas as pd\n",
    "s = pd.Series(\n",
    "    ['Luka', 'Renato', 'Ena', 'Ivana']\n",
    "    )\n",
    "print(type(s))"
   ]
  },
  {
   "cell_type": "code",
   "execution_count": 11,
   "metadata": {},
   "outputs": [
    {
     "name": "stdout",
     "output_type": "stream",
     "text": [
      "Ekipa\n",
      "<class 'numpy.ndarray'>\n",
      "<class 'str'>\n",
      "RangeIndex(start=0, stop=4, step=1)\n",
      "Renato\n"
     ]
    }
   ],
   "source": [
    "### Series objekt može dobiti i neki naziv - .name metoda\n",
    "\n",
    "s.name = \"Ekipa\"\n",
    "print(s.name)\n",
    "print(type(s.values))\n",
    "print(type(s.name))\n",
    "print(s.index)\n",
    "print(s[1])"
   ]
  },
  {
   "cell_type": "code",
   "execution_count": 12,
   "metadata": {},
   "outputs": [
    {
     "data": {
      "text/plain": [
       "Index(['prvi', 'drugi', 'treći', 'četvrti'], dtype='object')"
      ]
     },
     "execution_count": 12,
     "metadata": {},
     "output_type": "execute_result"
    }
   ],
   "source": [
    "### indexima možemo dati i ime\n",
    "s.index = ['prvi', 'drugi', 'treći', 'četvrti']\n",
    "s.index"
   ]
  },
  {
   "cell_type": "markdown",
   "metadata": {},
   "source": [
    "### metode\n",
    "- .iloc, .index, .values (indeksiranje i traženje elemenata)\n",
    "- .mean(), .std(), ... (računanje statističkih vrijednosti)"
   ]
  },
  {
   "cell_type": "code",
   "execution_count": 13,
   "metadata": {},
   "outputs": [
    {
     "data": {
      "text/plain": [
       "prvi        Darko\n",
       "drugi      Renato\n",
       "treći         Ena\n",
       "četvrti     Ivana\n",
       "Name: Ekipa, dtype: object"
      ]
     },
     "execution_count": 13,
     "metadata": {},
     "output_type": "execute_result"
    }
   ],
   "source": [
    "### elementi se mogu mijenjati \n",
    "s.prvi = 'Darko'\n",
    "s"
   ]
  },
  {
   "cell_type": "code",
   "execution_count": 14,
   "metadata": {},
   "outputs": [
    {
     "name": "stdout",
     "output_type": "stream",
     "text": [
      "Index : prvi, Value : Darko\n",
      "Index : drugi, Value : Renato\n",
      "Index : treći, Value : Ena\n",
      "Index : četvrti, Value : Ivana\n"
     ]
    },
    {
     "data": {
      "text/plain": [
       "prvi       Hrvoje\n",
       "drugi      Renato\n",
       "treći         Ena\n",
       "četvrti     Ivana\n",
       "Name: Ekipa, dtype: object"
      ]
     },
     "execution_count": 14,
     "metadata": {},
     "output_type": "execute_result"
    }
   ],
   "source": [
    "### elementi se mogu mijenjati pod uvjetima\n",
    "for index, value in s.items():\n",
    "    print(f\"Index : {index}, Value : {value}\")\n",
    "\n",
    "    if 'd' in value.lower():\n",
    "        s[index] = 'Hrvoje'\n",
    "\n",
    "s"
   ]
  },
  {
   "cell_type": "code",
   "execution_count": 16,
   "metadata": {},
   "outputs": [
    {
     "name": "stdout",
     "output_type": "stream",
     "text": [
      "Ena\n",
      "Ena\n"
     ]
    }
   ],
   "source": [
    "print(s[2])\n",
    "print(s.treći)"
   ]
  },
  {
   "cell_type": "markdown",
   "metadata": {},
   "source": [
    "### Dataframe objekt\n",
    "- kolekcija Series objekata\n",
    "- iz dokumentacije: \"Two-dimensional size-mutable, potentially heterogeneous tabular data structure with labeled axes (rows and columns). Arithmetic operations align on both row and column labels. Can be thought of as a dict-like container for Series objects. The primary pandas data structure.\"\n",
    "- u prijevodu: fensi tablica :)\n"
   ]
  },
  {
   "cell_type": "code",
   "execution_count": 18,
   "metadata": {},
   "outputs": [
    {
     "data": {
      "text/html": [
       "<div>\n",
       "<style scoped>\n",
       "    .dataframe tbody tr th:only-of-type {\n",
       "        vertical-align: middle;\n",
       "    }\n",
       "\n",
       "    .dataframe tbody tr th {\n",
       "        vertical-align: top;\n",
       "    }\n",
       "\n",
       "    .dataframe thead th {\n",
       "        text-align: right;\n",
       "    }\n",
       "</style>\n",
       "<table border=\"1\" class=\"dataframe\">\n",
       "  <thead>\n",
       "    <tr style=\"text-align: right;\">\n",
       "      <th></th>\n",
       "      <th>Grad</th>\n",
       "      <th>godine_iskustva</th>\n",
       "      <th>Ekipa</th>\n",
       "    </tr>\n",
       "  </thead>\n",
       "  <tbody>\n",
       "    <tr>\n",
       "      <th>0</th>\n",
       "      <td>Split</td>\n",
       "      <td>10</td>\n",
       "      <td>Hrvoje</td>\n",
       "    </tr>\n",
       "    <tr>\n",
       "      <th>1</th>\n",
       "      <td>Zagreb</td>\n",
       "      <td>8</td>\n",
       "      <td>Renato</td>\n",
       "    </tr>\n",
       "    <tr>\n",
       "      <th>2</th>\n",
       "      <td>Lipik</td>\n",
       "      <td>6</td>\n",
       "      <td>Ena</td>\n",
       "    </tr>\n",
       "    <tr>\n",
       "      <th>3</th>\n",
       "      <td>Osijek</td>\n",
       "      <td>6</td>\n",
       "      <td>Ivana</td>\n",
       "    </tr>\n",
       "  </tbody>\n",
       "</table>\n",
       "</div>"
      ],
      "text/plain": [
       "     Grad  godine_iskustva   Ekipa\n",
       "0   Split               10  Hrvoje\n",
       "1  Zagreb                8  Renato\n",
       "2   Lipik                6     Ena\n",
       "3  Osijek                6   Ivana"
      ]
     },
     "execution_count": 18,
     "metadata": {},
     "output_type": "execute_result"
    }
   ],
   "source": [
    "df = pd.DataFrame(\n",
    "    {\n",
    "    'Grad': ['Split', 'Zagreb', 'Lipik', 'Osijek'],\n",
    "    'godine_iskustva': [10, 8, 6, 6],\n",
    "    \"Ekipa\": ['H', 'R', 'P', 'E']\n",
    "    },\n",
    "    columns = ['Grad','godine_iskustva',s.name])\n",
    "# \n",
    "df"
   ]
  },
  {
   "cell_type": "code",
   "execution_count": 19,
   "metadata": {},
   "outputs": [
    {
     "data": {
      "text/plain": [
       "Index(['Grad', 'godine_iskustva', 'Ekipa'], dtype='object')"
      ]
     },
     "execution_count": 19,
     "metadata": {},
     "output_type": "execute_result"
    }
   ],
   "source": [
    "df.columns"
   ]
  },
  {
   "cell_type": "code",
   "execution_count": 20,
   "metadata": {},
   "outputs": [
    {
     "data": {
      "text/html": [
       "<div>\n",
       "<style scoped>\n",
       "    .dataframe tbody tr th:only-of-type {\n",
       "        vertical-align: middle;\n",
       "    }\n",
       "\n",
       "    .dataframe tbody tr th {\n",
       "        vertical-align: top;\n",
       "    }\n",
       "\n",
       "    .dataframe thead th {\n",
       "        text-align: right;\n",
       "    }\n",
       "</style>\n",
       "<table border=\"1\" class=\"dataframe\">\n",
       "  <thead>\n",
       "    <tr style=\"text-align: right;\">\n",
       "      <th></th>\n",
       "      <th>Grad</th>\n",
       "      <th>godine_iskustva</th>\n",
       "      <th>Ekipa</th>\n",
       "    </tr>\n",
       "  </thead>\n",
       "  <tbody>\n",
       "    <tr>\n",
       "      <th>bajo</th>\n",
       "      <td>Split</td>\n",
       "      <td>10</td>\n",
       "      <td>Hrvoje</td>\n",
       "    </tr>\n",
       "    <tr>\n",
       "      <th>brale</th>\n",
       "      <td>Zagreb</td>\n",
       "      <td>8</td>\n",
       "      <td>Renato</td>\n",
       "    </tr>\n",
       "    <tr>\n",
       "      <th>bracika</th>\n",
       "      <td>Lipik</td>\n",
       "      <td>6</td>\n",
       "      <td>Ena</td>\n",
       "    </tr>\n",
       "    <tr>\n",
       "      <th>buraz</th>\n",
       "      <td>Osijek</td>\n",
       "      <td>6</td>\n",
       "      <td>Ivana</td>\n",
       "    </tr>\n",
       "  </tbody>\n",
       "</table>\n",
       "</div>"
      ],
      "text/plain": [
       "           Grad  godine_iskustva   Ekipa\n",
       "bajo      Split               10  Hrvoje\n",
       "brale    Zagreb                8  Renato\n",
       "bracika   Lipik                6     Ena\n",
       "buraz    Osijek                6   Ivana"
      ]
     },
     "execution_count": 20,
     "metadata": {},
     "output_type": "execute_result"
    }
   ],
   "source": [
    "df.index = ['bajo', 'brale', 'bracika', 'buraz']\n",
    "df\n"
   ]
  },
  {
   "cell_type": "code",
   "execution_count": 33,
   "metadata": {},
   "outputs": [
    {
     "name": "stdout",
     "output_type": "stream",
     "text": [
      "Hrvoje\n",
      "Split\n"
     ]
    }
   ],
   "source": [
    "### kako dobiti jedan element u dataframeu\n",
    "print(s[0])\n",
    "print(df['Grad']['bajo'])"
   ]
  },
  {
   "cell_type": "code",
   "execution_count": 25,
   "metadata": {},
   "outputs": [
    {
     "name": "stdout",
     "output_type": "stream",
     "text": [
      "<class 'pandas.core.frame.DataFrame'>\n",
      "Index: 4 entries, bajo to buraz\n",
      "Data columns (total 3 columns):\n",
      " #   Column           Non-Null Count  Dtype \n",
      "---  ------           --------------  ----- \n",
      " 0   Grad             4 non-null      object\n",
      " 1   godine_iskustva  4 non-null      int64 \n",
      " 2   Ekipa            4 non-null      object\n",
      "dtypes: int64(1), object(2)\n",
      "memory usage: 128.0+ bytes\n"
     ]
    }
   ],
   "source": [
    "df.info()"
   ]
  },
  {
   "cell_type": "code",
   "execution_count": 26,
   "metadata": {},
   "outputs": [
    {
     "data": {
      "text/plain": [
       "(4, 3)"
      ]
     },
     "execution_count": 26,
     "metadata": {},
     "output_type": "execute_result"
    }
   ],
   "source": [
    "### properties koje ćete koristiti najčešće u numpyju i pandasu:\n",
    "# shape\n",
    "# size\n",
    "\n",
    "df.shape"
   ]
  },
  {
   "cell_type": "code",
   "execution_count": 28,
   "metadata": {},
   "outputs": [
    {
     "data": {
      "text/plain": [
       "12"
      ]
     },
     "execution_count": 28,
     "metadata": {},
     "output_type": "execute_result"
    }
   ],
   "source": [
    "df.size"
   ]
  },
  {
   "cell_type": "code",
   "execution_count": 29,
   "metadata": {},
   "outputs": [
    {
     "data": {
      "text/html": [
       "<div>\n",
       "<style scoped>\n",
       "    .dataframe tbody tr th:only-of-type {\n",
       "        vertical-align: middle;\n",
       "    }\n",
       "\n",
       "    .dataframe tbody tr th {\n",
       "        vertical-align: top;\n",
       "    }\n",
       "\n",
       "    .dataframe thead th {\n",
       "        text-align: right;\n",
       "    }\n",
       "</style>\n",
       "<table border=\"1\" class=\"dataframe\">\n",
       "  <thead>\n",
       "    <tr style=\"text-align: right;\">\n",
       "      <th></th>\n",
       "      <th>godine_iskustva</th>\n",
       "    </tr>\n",
       "  </thead>\n",
       "  <tbody>\n",
       "    <tr>\n",
       "      <th>count</th>\n",
       "      <td>4.000000</td>\n",
       "    </tr>\n",
       "    <tr>\n",
       "      <th>mean</th>\n",
       "      <td>7.500000</td>\n",
       "    </tr>\n",
       "    <tr>\n",
       "      <th>std</th>\n",
       "      <td>1.914854</td>\n",
       "    </tr>\n",
       "    <tr>\n",
       "      <th>min</th>\n",
       "      <td>6.000000</td>\n",
       "    </tr>\n",
       "    <tr>\n",
       "      <th>25%</th>\n",
       "      <td>6.000000</td>\n",
       "    </tr>\n",
       "    <tr>\n",
       "      <th>50%</th>\n",
       "      <td>7.000000</td>\n",
       "    </tr>\n",
       "    <tr>\n",
       "      <th>75%</th>\n",
       "      <td>8.500000</td>\n",
       "    </tr>\n",
       "    <tr>\n",
       "      <th>max</th>\n",
       "      <td>10.000000</td>\n",
       "    </tr>\n",
       "  </tbody>\n",
       "</table>\n",
       "</div>"
      ],
      "text/plain": [
       "       godine_iskustva\n",
       "count         4.000000\n",
       "mean          7.500000\n",
       "std           1.914854\n",
       "min           6.000000\n",
       "25%           6.000000\n",
       "50%           7.000000\n",
       "75%           8.500000\n",
       "max          10.000000"
      ]
     },
     "execution_count": 29,
     "metadata": {},
     "output_type": "execute_result"
    }
   ],
   "source": [
    "df.describe()"
   ]
  },
  {
   "cell_type": "markdown",
   "metadata": {},
   "source": [
    "#### loc vs iloc metode\n",
    "- [https://stackoverflow.com/questions/31593201/how-are-iloc-and-loc-different](https://stackoverflow.com/questions/31593201/how-are-iloc-and-loc-different)\n",
    "- loc pretražuje po labelima (nazivima redova koje možemo napraviti s Series.index metodom)\n",
    "- iloc pretražuje po pravoj poziciji (n-ti red...)"
   ]
  },
  {
   "cell_type": "code",
   "execution_count": 35,
   "metadata": {},
   "outputs": [
    {
     "data": {
      "text/html": [
       "<div>\n",
       "<style scoped>\n",
       "    .dataframe tbody tr th:only-of-type {\n",
       "        vertical-align: middle;\n",
       "    }\n",
       "\n",
       "    .dataframe tbody tr th {\n",
       "        vertical-align: top;\n",
       "    }\n",
       "\n",
       "    .dataframe thead th {\n",
       "        text-align: right;\n",
       "    }\n",
       "</style>\n",
       "<table border=\"1\" class=\"dataframe\">\n",
       "  <thead>\n",
       "    <tr style=\"text-align: right;\">\n",
       "      <th></th>\n",
       "      <th>Grad</th>\n",
       "      <th>godine_iskustva</th>\n",
       "      <th>Ekipa</th>\n",
       "    </tr>\n",
       "  </thead>\n",
       "  <tbody>\n",
       "    <tr>\n",
       "      <th>bajo</th>\n",
       "      <td>Split</td>\n",
       "      <td>10</td>\n",
       "      <td>Hrvoje</td>\n",
       "    </tr>\n",
       "    <tr>\n",
       "      <th>brale</th>\n",
       "      <td>Zagreb</td>\n",
       "      <td>8</td>\n",
       "      <td>Renato</td>\n",
       "    </tr>\n",
       "    <tr>\n",
       "      <th>bracika</th>\n",
       "      <td>Lipik</td>\n",
       "      <td>6</td>\n",
       "      <td>Ena</td>\n",
       "    </tr>\n",
       "    <tr>\n",
       "      <th>buraz</th>\n",
       "      <td>Osijek</td>\n",
       "      <td>6</td>\n",
       "      <td>Ivana</td>\n",
       "    </tr>\n",
       "  </tbody>\n",
       "</table>\n",
       "</div>"
      ],
      "text/plain": [
       "           Grad  godine_iskustva   Ekipa\n",
       "bajo      Split               10  Hrvoje\n",
       "brale    Zagreb                8  Renato\n",
       "bracika   Lipik                6     Ena\n",
       "buraz    Osijek                6   Ivana"
      ]
     },
     "execution_count": 35,
     "metadata": {},
     "output_type": "execute_result"
    }
   ],
   "source": [
    "df"
   ]
  },
  {
   "cell_type": "code",
   "execution_count": 37,
   "metadata": {},
   "outputs": [
    {
     "name": "stdout",
     "output_type": "stream",
     "text": [
      "Lipik\n",
      "Grad               Osijek\n",
      "godine_iskustva         6\n",
      "Ekipa               Ivana\n",
      "Name: buraz, dtype: object\n"
     ]
    }
   ],
   "source": [
    "print(df.loc['bracika', 'Grad'])\n",
    "print(df.loc['buraz'])"
   ]
  },
  {
   "cell_type": "code",
   "execution_count": 39,
   "metadata": {},
   "outputs": [
    {
     "name": "stdout",
     "output_type": "stream",
     "text": [
      "Lipik\n"
     ]
    }
   ],
   "source": [
    "print(df.iloc[-2][0])"
   ]
  },
  {
   "cell_type": "code",
   "execution_count": 41,
   "metadata": {},
   "outputs": [
    {
     "name": "stdout",
     "output_type": "stream",
     "text": [
      "           Grad  godine_iskustva  Ekipa\n",
      "bracika   Lipik                6    Ena\n",
      "buraz    Osijek                6  Ivana\n"
     ]
    }
   ],
   "source": [
    "print(df.iloc[1:][1:])"
   ]
  },
  {
   "cell_type": "markdown",
   "metadata": {},
   "source": [
    "### izmjena dataframea"
   ]
  },
  {
   "cell_type": "code",
   "execution_count": 42,
   "metadata": {},
   "outputs": [
    {
     "data": {
      "text/html": [
       "<div>\n",
       "<style scoped>\n",
       "    .dataframe tbody tr th:only-of-type {\n",
       "        vertical-align: middle;\n",
       "    }\n",
       "\n",
       "    .dataframe tbody tr th {\n",
       "        vertical-align: top;\n",
       "    }\n",
       "\n",
       "    .dataframe thead th {\n",
       "        text-align: right;\n",
       "    }\n",
       "</style>\n",
       "<table border=\"1\" class=\"dataframe\">\n",
       "  <thead>\n",
       "    <tr style=\"text-align: right;\">\n",
       "      <th></th>\n",
       "      <th>Grad</th>\n",
       "      <th>godine_iskustva</th>\n",
       "      <th>Ekipa</th>\n",
       "      <th>jela</th>\n",
       "    </tr>\n",
       "  </thead>\n",
       "  <tbody>\n",
       "    <tr>\n",
       "      <th>bajo</th>\n",
       "      <td>Split</td>\n",
       "      <td>10</td>\n",
       "      <td>Hrvoje</td>\n",
       "      <td>Sarma</td>\n",
       "    </tr>\n",
       "    <tr>\n",
       "      <th>brale</th>\n",
       "      <td>Zagreb</td>\n",
       "      <td>8</td>\n",
       "      <td>Renato</td>\n",
       "      <td>Paprikaš</td>\n",
       "    </tr>\n",
       "    <tr>\n",
       "      <th>bracika</th>\n",
       "      <td>Lipik</td>\n",
       "      <td>6</td>\n",
       "      <td>Ena</td>\n",
       "      <td>Ćevapi</td>\n",
       "    </tr>\n",
       "    <tr>\n",
       "      <th>buraz</th>\n",
       "      <td>Osijek</td>\n",
       "      <td>6</td>\n",
       "      <td>Ivana</td>\n",
       "      <td>Burek kod albanca</td>\n",
       "    </tr>\n",
       "  </tbody>\n",
       "</table>\n",
       "</div>"
      ],
      "text/plain": [
       "           Grad  godine_iskustva   Ekipa               jela\n",
       "bajo      Split               10  Hrvoje              Sarma\n",
       "brale    Zagreb                8  Renato           Paprikaš\n",
       "bracika   Lipik                6     Ena             Ćevapi\n",
       "buraz    Osijek                6   Ivana  Burek kod albanca"
      ]
     },
     "execution_count": 42,
     "metadata": {},
     "output_type": "execute_result"
    }
   ],
   "source": [
    "### dodavanje stupaca\n",
    "\n",
    "najdraze_jelo = pd.Series(\n",
    "    ['Sarma', 'Paprikaš', 'Ćevapi', 'Burek kod albanca'],\n",
    "    index = ['bajo','brale','bracika','buraz'],\n",
    "    )\n",
    "\n",
    "df['jela'] = najdraze_jelo\n",
    "df"
   ]
  },
  {
   "cell_type": "markdown",
   "metadata": {},
   "source": [
    "### Importanje stvari u Dataframe"
   ]
  },
  {
   "cell_type": "code",
   "execution_count": 45,
   "metadata": {},
   "outputs": [
    {
     "data": {
      "text/html": [
       "<div>\n",
       "<style scoped>\n",
       "    .dataframe tbody tr th:only-of-type {\n",
       "        vertical-align: middle;\n",
       "    }\n",
       "\n",
       "    .dataframe tbody tr th {\n",
       "        vertical-align: top;\n",
       "    }\n",
       "\n",
       "    .dataframe thead th {\n",
       "        text-align: right;\n",
       "    }\n",
       "</style>\n",
       "<table border=\"1\" class=\"dataframe\">\n",
       "  <thead>\n",
       "    <tr style=\"text-align: right;\">\n",
       "      <th></th>\n",
       "      <th>Title</th>\n",
       "      <th>url</th>\n",
       "      <th>text</th>\n",
       "    </tr>\n",
       "  </thead>\n",
       "  <tbody>\n",
       "    <tr>\n",
       "      <th>0</th>\n",
       "      <td>Naša rješenja</td>\n",
       "      <td>https://www.inskysolutions.com/nasa-rjesenja.aspx</td>\n",
       "      <td>['TourismInSky je paket specifičnih\\xa0 poslov...</td>\n",
       "    </tr>\n",
       "    <tr>\n",
       "      <th>1</th>\n",
       "      <td>TourismInSky</td>\n",
       "      <td>https://www.inskysolutions.com/tourisminsky.aspx</td>\n",
       "      <td>['Poslovno rješenje TourismInSky ima širok trž...</td>\n",
       "    </tr>\n",
       "    <tr>\n",
       "      <th>2</th>\n",
       "      <td>ContactInSky</td>\n",
       "      <td>https://www.inskysolutions.com/contactinsky.aspx</td>\n",
       "      <td>['ContactInSky rješenje za kontaktne centre ba...</td>\n",
       "    </tr>\n",
       "    <tr>\n",
       "      <th>3</th>\n",
       "      <td>LoyaltyInSky</td>\n",
       "      <td>https://www.inskysolutions.com/loyaltyinsky.aspx</td>\n",
       "      <td>['LoyaltyInSky je poslovno rješenje za upravlj...</td>\n",
       "    </tr>\n",
       "    <tr>\n",
       "      <th>4</th>\n",
       "      <td>Groups&amp;AllotmentsInSky</td>\n",
       "      <td>https://www.inskysolutions.com/groupsallotment...</td>\n",
       "      <td>['Groups&amp;AllotmentsInSky je poslovno rješenje ...</td>\n",
       "    </tr>\n",
       "  </tbody>\n",
       "</table>\n",
       "</div>"
      ],
      "text/plain": [
       "                    Title                                                url  \\\n",
       "0           Naša rješenja  https://www.inskysolutions.com/nasa-rjesenja.aspx   \n",
       "1            TourismInSky   https://www.inskysolutions.com/tourisminsky.aspx   \n",
       "2            ContactInSky   https://www.inskysolutions.com/contactinsky.aspx   \n",
       "3            LoyaltyInSky   https://www.inskysolutions.com/loyaltyinsky.aspx   \n",
       "4  Groups&AllotmentsInSky  https://www.inskysolutions.com/groupsallotment...   \n",
       "\n",
       "                                                text  \n",
       "0  ['TourismInSky je paket specifičnih\\xa0 poslov...  \n",
       "1  ['Poslovno rješenje TourismInSky ima širok trž...  \n",
       "2  ['ContactInSky rješenje za kontaktne centre ba...  \n",
       "3  ['LoyaltyInSky je poslovno rješenje za upravlj...  \n",
       "4  ['Groups&AllotmentsInSky je poslovno rješenje ...  "
      ]
     },
     "execution_count": 45,
     "metadata": {},
     "output_type": "execute_result"
    }
   ],
   "source": [
    "### csv \n",
    "# https://pandas.pydata.org/docs/reference/api/pandas.read_csv.html\n",
    "\n",
    "import os\n",
    "col_names = ['Title', 'url', 'text']\n",
    "path = os.path.join(os.getcwd(),'data_v1.csv')\n",
    "data=pd.read_csv(path, names=col_names, header=None)\n",
    "\n",
    "data.head()\n"
   ]
  },
  {
   "cell_type": "code",
   "execution_count": null,
   "metadata": {},
   "outputs": [],
   "source": [
    "### excel\n",
    "### https://pandas.pydata.org/docs/reference/api/pandas.read_excel.html"
   ]
  },
  {
   "cell_type": "code",
   "execution_count": null,
   "metadata": {},
   "outputs": [],
   "source": [
    "### sqlite db\n",
    "import sqlite3\n",
    "\n",
    "### moramo napraviti konekciju prema bazi\n",
    "connection = sqlite3.connect(db_filename)\n",
    "\n",
    "### queryjamo bazu i dajemo connection objekt kao parametar\n",
    "df = pd.read_sql_query(\"SELECT * FROM table_name\", connection)"
   ]
  },
  {
   "cell_type": "code",
   "execution_count": null,
   "metadata": {},
   "outputs": [],
   "source": [
    "### ZADACI:\n",
    "# 1. Loadaj Deanovu tablicu (pazi na header)\n",
    "# 2. Prikaži podatke o tablici \n",
    "    # (koje metode ćete koristiti uvijek za dataframeove o kojima ne znate ništa?)\n",
    "# 3. Pretvori column sa cijenama u dva nova:\n",
    "    # a) numeričke vrijednosti (napravi konverzije u EUR ili bilo koju drugu valutu) \n",
    "    # b) drugi stupac gdje piše valuta\n",
    "# 4. Dodajte novi stupac gdje piše trajanje putovanja (arrival minus departure)\n",
    "    # stavite 1h ako je trajanje dana 0\n",
    "# 5. Pronađi najpovoljni let srijedom\n",
    "    # iterrows()\n",
    "    # sort_values()\n",
    "    # group_by()"
   ]
  }
 ],
 "metadata": {
  "interpreter": {
   "hash": "3a77e775c87fb89362942d277fb75334cb3bd442f266b1f86534018203e3e2a0"
  },
  "kernelspec": {
   "display_name": "Python 3.9.7 64-bit ('Lipik-ka_zJLUe': virtualenv)",
   "language": "python",
   "name": "python3"
  },
  "language_info": {
   "codemirror_mode": {
    "name": "ipython",
    "version": 3
   },
   "file_extension": ".py",
   "mimetype": "text/x-python",
   "name": "python",
   "nbconvert_exporter": "python",
   "pygments_lexer": "ipython3",
   "version": "3.8.5"
  },
  "orig_nbformat": 4
 },
 "nbformat": 4,
 "nbformat_minor": 2
}
