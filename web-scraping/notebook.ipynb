{
 "cells": [
  {
   "cell_type": "code",
   "execution_count": 2,
   "metadata": {},
   "outputs": [],
   "source": [
    "import requests\n",
    "from bs4 import BeautifulSoup"
   ]
  },
  {
   "cell_type": "code",
   "execution_count": 3,
   "metadata": {},
   "outputs": [],
   "source": [
    "url = \"https://hr.wikipedia.org/wiki/Umjetna_inteligencija\"\n",
    "response = requests.get(url)"
   ]
  },
  {
   "cell_type": "code",
   "execution_count": 4,
   "metadata": {},
   "outputs": [
    {
     "data": {
      "text/plain": [
       "<Response [200]>"
      ]
     },
     "execution_count": 4,
     "metadata": {},
     "output_type": "execute_result"
    }
   ],
   "source": [
    "response"
   ]
  },
  {
   "cell_type": "code",
   "execution_count": 5,
   "metadata": {},
   "outputs": [],
   "source": [
    "html = response.content\n",
    "html_text =response.text"
   ]
  },
  {
   "cell_type": "code",
   "execution_count": 6,
   "metadata": {},
   "outputs": [
    {
     "data": {
      "text/plain": [
       "b'<!DOCTYPE html>\\n<html class=\"client-nojs\" lang=\"hr\" dir=\"ltr\">\\n<head>\\n<meta charset=\"UTF-8\"/>\\n<title'"
      ]
     },
     "execution_count": 6,
     "metadata": {},
     "output_type": "execute_result"
    }
   ],
   "source": [
    "html[:100]"
   ]
  },
  {
   "cell_type": "code",
   "execution_count": 7,
   "metadata": {},
   "outputs": [],
   "source": [
    "soup = BeautifulSoup(html, 'html.parser')"
   ]
  },
  {
   "cell_type": "code",
   "execution_count": 8,
   "metadata": {},
   "outputs": [],
   "source": [
    "divs = soup.body.text"
   ]
  },
  {
   "cell_type": "code",
   "execution_count": 10,
   "metadata": {},
   "outputs": [
    {
     "data": {
      "text/plain": [
       "<div class=\"mw-body-content mw-content-ltr\" dir=\"ltr\" id=\"mw-content-text\" lang=\"hr\"><div class=\"mw-parser-output\"><div class=\"hatnote\"><a class=\"image\" href=\"/wiki/Datoteka:Disambig.svg\"><img alt=\"Disambig.svg\" data-file-height=\"183\" data-file-width=\"230\" decoding=\"async\" height=\"16\" src=\"//upload.wikimedia.org/wikipedia/commons/thumb/7/72/Disambig.svg/20px-Disambig.svg.png\" srcset=\"//upload.wikimedia.org/wikipedia/commons/thumb/7/72/Disambig.svg/30px-Disambig.svg.png 1.5x, //upload.wikimedia.org/wikipedia/commons/thumb/7/72/Disambig.svg/40px-Disambig.svg.png 2x\" width=\"20\"/></a> <i>Ovo je glavno značenje pojma <b>Umjetna inteligencija</b>. Za druga značenja pogledajte <a class=\"mw-disambig\" href=\"/wiki/Umjetna_inteligencija_(razdvojba)\" title=\"Umjetna inteligencija (razdvojba)\">Umjetna inteligencija (razdvojba)</a>.</i></div>\n",
       "<div class=\"thumb tright\"><div class=\"thumbinner\" style=\"width:212px;\"><a class=\"image\" href=\"/wiki/Datoteka:HONDA_ASIMO.jpg\"><img alt=\"\" class=\"thumbimage\" data-file-height=\"1280\" data-file-width=\"960\" decoding=\"async\" height=\"280\" src=\"//upload.wikimedia.org/wikipedia/commons/thumb/0/05/HONDA_ASIMO.jpg/210px-HONDA_ASIMO.jpg\" srcset=\"//upload.wikimedia.org/wikipedia/commons/thumb/0/05/HONDA_ASIMO.jpg/315px-HONDA_ASIMO.jpg 1.5x, //upload.wikimedia.org/wikipedia/commons/thumb/0/05/HONDA_ASIMO.jpg/420px-HONDA_ASIMO.jpg 2x\" width=\"210\"/></a> <div class=\"thumbcaption\"><div class=\"magnify\"><a class=\"internal\" href=\"/wiki/Datoteka:HONDA_ASIMO.jpg\" title=\"Povećaj\"></a></div><a href=\"/wiki/Robot\" title=\"Robot\">Robot</a> Honda Asimo</div></div></div>\n",
       "<p><b>Umjetna inteligencija</b> (<b>UI</b>) je naziv koji pridajemo svakom neživom sustavu koji pokazuje sposobnost snalaženja u novim situacijama (<a href=\"/wiki/Inteligencija\" title=\"Inteligencija\">inteligenciju</a>). Engleski naziv za umjetnu inteligenciju je <b>artificial intelligence</b> skraćeno <b>AI</b>. \n",
       "</p><p>Uobičajeno je da se to ime pridaje <a href=\"/wiki/Ra%C4%8Dunalo\" title=\"Računalo\">računalnim</a> sustavima. Izraz se neosnovano primjenjuje i na <a href=\"/wiki/Robot\" title=\"Robot\">robote</a>, jer njihov sustav ne mora nužno biti inteligentan.\n",
       "</p>\n",
       "<div aria-labelledby=\"mw-toc-heading\" class=\"toc\" id=\"toc\" role=\"navigation\"><input class=\"toctogglecheckbox\" id=\"toctogglecheckbox\" role=\"button\" style=\"display:none\" type=\"checkbox\"/><div class=\"toctitle\" dir=\"ltr\" lang=\"hr\"><h2 id=\"mw-toc-heading\">Sadržaj</h2><span class=\"toctogglespan\"><label class=\"toctogglelabel\" for=\"toctogglecheckbox\"></label></span></div>\n",
       "<ul>\n",
       "<li class=\"toclevel-1 tocsection-1\"><a href=\"#Povijest\"><span class=\"tocnumber\">1</span> <span class=\"toctext\">Povijest</span></a>\n",
       "<ul>\n",
       "<li class=\"toclevel-2 tocsection-2\"><a href=\"#Razvoj_UI_teorije\"><span class=\"tocnumber\">1.1</span> <span class=\"toctext\">Razvoj UI teorije</span></a></li>\n",
       "<li class=\"toclevel-2 tocsection-3\"><a href=\"#Eksperimentalna_UI_istraživanja\"><span class=\"tocnumber\">1.2</span> <span class=\"toctext\">Eksperimentalna UI istraživanja</span></a></li>\n",
       "</ul>\n",
       "</li>\n",
       "<li class=\"toclevel-1 tocsection-4\"><a href=\"#Ograničena_umjetna_inteligencija\"><span class=\"tocnumber\">2</span> <span class=\"toctext\">Ograničena umjetna inteligencija</span></a></li>\n",
       "<li class=\"toclevel-1 tocsection-5\"><a href=\"#Svjesna_umjetna_inteligencija\"><span class=\"tocnumber\">3</span> <span class=\"toctext\">Svjesna umjetna inteligencija</span></a></li>\n",
       "<li class=\"toclevel-1 tocsection-6\"><a href=\"#Polja_unutar_umjetne_inteligencije\"><span class=\"tocnumber\">4</span> <span class=\"toctext\">Polja unutar umjetne inteligencije</span></a>\n",
       "<ul>\n",
       "<li class=\"toclevel-2 tocsection-7\"><a href=\"#Klasična_UI\"><span class=\"tocnumber\">4.1</span> <span class=\"toctext\">Klasična UI</span></a></li>\n",
       "<li class=\"toclevel-2 tocsection-8\"><a href=\"#Umjetni_život_i_evolucijsko_računarstvo\"><span class=\"tocnumber\">4.2</span> <span class=\"toctext\">Umjetni život i evolucijsko računarstvo</span></a></li>\n",
       "</ul>\n",
       "</li>\n",
       "<li class=\"toclevel-1 tocsection-9\"><a href=\"#Tipična_područja_primjene\"><span class=\"tocnumber\">5</span> <span class=\"toctext\">Tipična područja primjene</span></a></li>\n",
       "<li class=\"toclevel-1 tocsection-10\"><a href=\"#Vanjske_poveznice\"><span class=\"tocnumber\">6</span> <span class=\"toctext\">Vanjske poveznice</span></a></li>\n",
       "</ul>\n",
       "</div>\n",
       "<h2><span class=\"mw-headline\" id=\"Povijest\">Povijest</span><span class=\"mw-editsection\"><span class=\"mw-editsection-bracket\">[</span><a class=\"mw-editsection-visualeditor\" href=\"/w/index.php?title=Umjetna_inteligencija&amp;veaction=edit&amp;section=1\" title=\"Uredi odlomak: Povijest\">uredi</a><span class=\"mw-editsection-divider\"> | </span><a href=\"/w/index.php?title=Umjetna_inteligencija&amp;action=edit&amp;section=1\" title=\"Uredi odlomak: Povijest\">uredi kôd</a><span class=\"mw-editsection-bracket\">]</span></span></h2>\n",
       "<h3><span class=\"mw-headline\" id=\"Razvoj_UI_teorije\">Razvoj UI teorije</span><span class=\"mw-editsection\"><span class=\"mw-editsection-bracket\">[</span><a class=\"mw-editsection-visualeditor\" href=\"/w/index.php?title=Umjetna_inteligencija&amp;veaction=edit&amp;section=2\" title=\"Uredi odlomak: Razvoj UI teorije\">uredi</a><span class=\"mw-editsection-divider\"> | </span><a href=\"/w/index.php?title=Umjetna_inteligencija&amp;action=edit&amp;section=2\" title=\"Uredi odlomak: Razvoj UI teorije\">uredi kôd</a><span class=\"mw-editsection-bracket\">]</span></span></h3>\n",
       "<h3><span id=\"Eksperimentalna_UI_istra.C5.BEivanja\"></span><span class=\"mw-headline\" id=\"Eksperimentalna_UI_istraživanja\">Eksperimentalna UI istraživanja</span><span class=\"mw-editsection\"><span class=\"mw-editsection-bracket\">[</span><a class=\"mw-editsection-visualeditor\" href=\"/w/index.php?title=Umjetna_inteligencija&amp;veaction=edit&amp;section=3\" title=\"Uredi odlomak: Eksperimentalna UI istraživanja\">uredi</a><span class=\"mw-editsection-divider\"> | </span><a href=\"/w/index.php?title=Umjetna_inteligencija&amp;action=edit&amp;section=3\" title=\"Uredi odlomak: Eksperimentalna UI istraživanja\">uredi kôd</a><span class=\"mw-editsection-bracket\">]</span></span></h3>\n",
       "<h2><span id=\"Ograni.C4.8Dena_umjetna_inteligencija\"></span><span class=\"mw-headline\" id=\"Ograničena_umjetna_inteligencija\">Ograničena umjetna inteligencija</span><span class=\"mw-editsection\"><span class=\"mw-editsection-bracket\">[</span><a class=\"mw-editsection-visualeditor\" href=\"/w/index.php?title=Umjetna_inteligencija&amp;veaction=edit&amp;section=4\" title=\"Uredi odlomak: Ograničena umjetna inteligencija\">uredi</a><span class=\"mw-editsection-divider\"> | </span><a href=\"/w/index.php?title=Umjetna_inteligencija&amp;action=edit&amp;section=4\" title=\"Uredi odlomak: Ograničena umjetna inteligencija\">uredi kôd</a><span class=\"mw-editsection-bracket\">]</span></span></h2>\n",
       "<p>Svaku računalnu umjetnu inteligenciju namijenjenu rješavanju problema nazivamo ograničenom UI. Svi dosadašnji oblici umjetne inteligencije spadaju u ovu grupu jer su ograničeni na rješavanje samo određenih problema i nemaju vlastitu <a href=\"/wiki/Svijest\" title=\"Svijest\">svijest</a> niti razumijevanje.\n",
       "</p>\n",
       "<h2><span class=\"mw-headline\" id=\"Svjesna_umjetna_inteligencija\">Svjesna umjetna inteligencija</span><span class=\"mw-editsection\"><span class=\"mw-editsection-bracket\">[</span><a class=\"mw-editsection-visualeditor\" href=\"/w/index.php?title=Umjetna_inteligencija&amp;veaction=edit&amp;section=5\" title=\"Uredi odlomak: Svjesna umjetna inteligencija\">uredi</a><span class=\"mw-editsection-divider\"> | </span><a href=\"/w/index.php?title=Umjetna_inteligencija&amp;action=edit&amp;section=5\" title=\"Uredi odlomak: Svjesna umjetna inteligencija\">uredi kôd</a><span class=\"mw-editsection-bracket\">]</span></span></h2>\n",
       "<p>Čovjek još nije u stanju proizvesti umjetnu inteligenciju koja bi se približila čovjekovoj i svjesno razumijevala i rješavala probleme. Mogućnost izrade svjesne umjetne inteligencije je za sada predmet <a href=\"/wiki/Filozofija\" title=\"Filozofija\">filozofskih rasprava</a>.\n",
       "</p>\n",
       "<h2><span class=\"mw-headline\" id=\"Polja_unutar_umjetne_inteligencije\">Polja unutar umjetne inteligencije</span><span class=\"mw-editsection\"><span class=\"mw-editsection-bracket\">[</span><a class=\"mw-editsection-visualeditor\" href=\"/w/index.php?title=Umjetna_inteligencija&amp;veaction=edit&amp;section=6\" title=\"Uredi odlomak: Polja unutar umjetne inteligencije\">uredi</a><span class=\"mw-editsection-divider\"> | </span><a href=\"/w/index.php?title=Umjetna_inteligencija&amp;action=edit&amp;section=6\" title=\"Uredi odlomak: Polja unutar umjetne inteligencije\">uredi kôd</a><span class=\"mw-editsection-bracket\">]</span></span></h2>\n",
       "<h3><span id=\"Klasi.C4.8Dna_UI\"></span><span class=\"mw-headline\" id=\"Klasična_UI\">Klasična UI</span><span class=\"mw-editsection\"><span class=\"mw-editsection-bracket\">[</span><a class=\"mw-editsection-visualeditor\" href=\"/w/index.php?title=Umjetna_inteligencija&amp;veaction=edit&amp;section=7\" title=\"Uredi odlomak: Klasična UI\">uredi</a><span class=\"mw-editsection-divider\"> | </span><a href=\"/w/index.php?title=Umjetna_inteligencija&amp;action=edit&amp;section=7\" title=\"Uredi odlomak: Klasična UI\">uredi kôd</a><span class=\"mw-editsection-bracket\">]</span></span></h3>\n",
       "<ul><li><a class=\"new\" href=\"/w/index.php?title=Sustavi_za_planiranje&amp;action=edit&amp;redlink=1\" title=\"Sustavi za planiranje (stranica ne postoji)\">Sustavi za planiranje</a></li>\n",
       "<li><a class=\"new\" href=\"/w/index.php?title=Kombinatorno_pretra%C5%BEivanje&amp;action=edit&amp;redlink=1\" title=\"Kombinatorno pretraživanje (stranica ne postoji)\">Kombinatorno pretraživanje</a></li>\n",
       "<li><a href=\"/wiki/Ekspertni_sustavi\" title=\"Ekspertni sustavi\">Ekspertni sustavi</a></li>\n",
       "<li><a class=\"new\" href=\"/w/index.php?title=Sustavi_zasnovani_na_znanju&amp;action=edit&amp;redlink=1\" title=\"Sustavi zasnovani na znanju (stranica ne postoji)\">Sustavi zasnovani na znanju</a></li>\n",
       "<li><a href=\"/wiki/Neuronska_mre%C5%BEa\" title=\"Neuronska mreža\">Neuronske mreže</a></li></ul>\n",
       "<h3><span id=\"Umjetni_.C5.BEivot_i_evolucijsko_ra.C4.8Dunarstvo\"></span><span class=\"mw-headline\" id=\"Umjetni_život_i_evolucijsko_računarstvo\">Umjetni život i evolucijsko računarstvo</span><span class=\"mw-editsection\"><span class=\"mw-editsection-bracket\">[</span><a class=\"mw-editsection-visualeditor\" href=\"/w/index.php?title=Umjetna_inteligencija&amp;veaction=edit&amp;section=8\" title=\"Uredi odlomak: Umjetni život i evolucijsko računarstvo\">uredi</a><span class=\"mw-editsection-divider\"> | </span><a href=\"/w/index.php?title=Umjetna_inteligencija&amp;action=edit&amp;section=8\" title=\"Uredi odlomak: Umjetni život i evolucijsko računarstvo\">uredi kôd</a><span class=\"mw-editsection-bracket\">]</span></span></h3>\n",
       "<ul><li><a href=\"/wiki/Umjetni_%C5%BEivot\" title=\"Umjetni život\">Umjetni život</a></li>\n",
       "<li><a class=\"new\" href=\"/w/index.php?title=Raspodijeljena_umjetna_inteligencija&amp;action=edit&amp;redlink=1\" title=\"Raspodijeljena umjetna inteligencija (stranica ne postoji)\">Raspodijeljena umjetna inteligencija</a></li>\n",
       "<li><a class=\"new\" href=\"/w/index.php?title=Geneti%C4%8Dko_programiranje&amp;action=edit&amp;redlink=1\" title=\"Genetičko programiranje (stranica ne postoji)\">Genetičko programiranje</a> (<a href=\"/wiki/Geneti%C4%8Dki_algoritmi\" title=\"Genetički algoritmi\">Genetički algoritmi</a>)</li>\n",
       "<li><a class=\"mw-redirect\" href=\"/wiki/Inteligencija_roja\" title=\"Inteligencija roja\">Inteligencija roja</a></li></ul>\n",
       "<h2><span id=\"Tipi.C4.8Dna_podru.C4.8Dja_primjene\"></span><span class=\"mw-headline\" id=\"Tipična_područja_primjene\">Tipična područja primjene</span><span class=\"mw-editsection\"><span class=\"mw-editsection-bracket\">[</span><a class=\"mw-editsection-visualeditor\" href=\"/w/index.php?title=Umjetna_inteligencija&amp;veaction=edit&amp;section=9\" title=\"Uredi odlomak: Tipična područja primjene\">uredi</a><span class=\"mw-editsection-divider\"> | </span><a href=\"/w/index.php?title=Umjetna_inteligencija&amp;action=edit&amp;section=9\" title=\"Uredi odlomak: Tipična područja primjene\">uredi kôd</a><span class=\"mw-editsection-bracket\">]</span></span></h2>\n",
       "<p>Brojna su područja primjene za umjetnu inteligenciju.\n",
       "</p>\n",
       "<ul><li><a href=\"/wiki/Tra%C5%BEilica\" title=\"Tražilica\">Tražilice</a> olakšavaju pronalazak informacija dostupnih na <a href=\"/wiki/Internet\" title=\"Internet\">Internetu</a>.</li>\n",
       "<li>Ekspertski sustavi koriste umjetnom inteligencijom pri istraživanju naftnih bušotina, kontroli Marsovih robota ili medicinskoj dijagnozi.</li>\n",
       "<li><a href=\"/wiki/Strojno_prevo%C4%91enje\" title=\"Strojno prevođenje\">Strojno prevođenje</a> kao na primer Google prevoditelj ili DeepL.</li>\n",
       "<li>Analiza i predviđanje kretanja cijena <a href=\"/wiki/Dionica\" title=\"Dionica\">dionica</a></li>\n",
       "<li>Prepoznavanje rukopisa primjerice se ravbi na <a href=\"/wiki/Pametni_telefon\" title=\"Pametni telefon\">pametnim telefonma</a> i <a href=\"/wiki/Tablet\" title=\"Tablet\">tabletima</a>.</li>\n",
       "<li>Prepoznavanje govora omogućuje kontrolu glasa ili diktiranje teksta. Primjeri su <a href=\"/wiki/Siri\" title=\"Siri\">Siri</a>, <a class=\"new\" href=\"/w/index.php?title=Google_Assistant&amp;action=edit&amp;redlink=1\" title=\"Google Assistant (stranica ne postoji)\">Google Assistant</a>, <a href=\"/wiki/Cortana\" title=\"Cortana\">Cortana</a> i Samsung Bixby ili <a class=\"new\" href=\"/w/index.php?title=Amazon_Alexa&amp;action=edit&amp;redlink=1\" title=\"Amazon Alexa (stranica ne postoji)\">Amazon Alexa</a>.</li>\n",
       "<li>Prepoznavanje lica, npr. aplikacijom <a class=\"new\" href=\"/w/index.php?title=FindFace&amp;action=edit&amp;redlink=1\" title=\"FindFace (stranica ne postoji)\">FindFace</a>.</li>\n",
       "<li>Prepoznavanje slike, npr. B. automatsko označavanje slika na Flickr ili Cloud Vision API-ju od Googlea.</li>\n",
       "<li>Računalni programi za <a href=\"/wiki/%C5%A0ah\" title=\"Šah\">šah</a> (najpoznatiji je <a href=\"/wiki/Deep_Blue\" title=\"Deep Blue\">Deep Blue</a> koji je pobijedio <a href=\"/wiki/Gari_Kasparov\" title=\"Gari Kasparov\">Kasparova</a> 1997. godine)</li>\n",
       "<li>uporaba <a href=\"/wiki/Bot\" title=\"Bot\">botova</a></li>\n",
       "<li><a class=\"mw-redirect\" href=\"/wiki/Ra%C4%8Dunalna_lingvistika\" title=\"Računalna lingvistika\">Računalna lingvistika</a></li>\n",
       "<li><a href=\"/wiki/Ekspertni_sustavi\" title=\"Ekspertni sustavi\">Ekspertni sustavi</a></li>\n",
       "<li><a href=\"/wiki/Inteligentni_agenti\" title=\"Inteligentni agenti\">Inteligentni agenti</a></li>\n",
       "<li><a href=\"/wiki/Robotika\" title=\"Robotika\">Robotika</a></li>\n",
       "<li><a href=\"/wiki/Ra%C4%8Dunalni_vid\" title=\"Računalni vid\">Računalni vid</a>\n",
       "<ul><li><a href=\"/wiki/Opti%C4%8Dko_prepoznavanje_znakova\" title=\"Optičko prepoznavanje znakova\">Optičko prepoznavanje znakova </a> (<b>eng.</b> Optical character recognition - <a class=\"mw-redirect\" href=\"/wiki/OCR\" title=\"OCR\">OCR</a>) - pretvaranje teksta na slikama u tekstualni format</li></ul></li>\n",
       "<li><a class=\"mw-redirect\" href=\"/wiki/Ra%C4%8Dunalne_igre\" title=\"Računalne igre\">Računalne igre</a></li></ul>\n",
       "<h2><span class=\"mw-headline\" id=\"Vanjske_poveznice\">Vanjske poveznice</span><span class=\"mw-editsection\"><span class=\"mw-editsection-bracket\">[</span><a class=\"mw-editsection-visualeditor\" href=\"/w/index.php?title=Umjetna_inteligencija&amp;veaction=edit&amp;section=10\" title=\"Uredi odlomak: Vanjske poveznice\">uredi</a><span class=\"mw-editsection-divider\"> | </span><a href=\"/w/index.php?title=Umjetna_inteligencija&amp;action=edit&amp;section=10\" title=\"Uredi odlomak: Vanjske poveznice\">uredi kôd</a><span class=\"mw-editsection-bracket\">]</span></span></h2>\n",
       "<ul><li><a class=\"external text\" href=\"http://web.math.pmf.unizg.hr/nastava/ui/materijali/\" rel=\"nofollow\">Predmet Umjetna inteligencija na Prirodoslovno-matematičkom fakultetu u Zagrebu</a>  <a class=\"external text\" href=\"https://web.archive.org/web/20150424211213/http://web.math.pmf.unizg.hr/nastava/ui/materijali/\" rel=\"nofollow\">Inačica izvorne stranice</a> arhivirana 24. travnja 2015.</li></ul>\n",
       "<table cellspacing=\"0\" class=\"navbox\" style=\";\"><tbody><tr><td style=\"padding:2px;\"><table cellspacing=\"0\" class=\"nowraplinks collapsible autocollapse\" style=\"width:100%;background:transparent;color:inherit;;\"><tbody><tr><th class=\"navbox-naslov\" colspan=\"2\" style=\";\"><div style=\"float:left; width:6em;text-align:left;\"><div class=\"noprint plainlinksneverexpand navbar\" style=\"background-color:transparent; padding:0; white-space:nowrap; font-weight:normal; font-variant:small-caps; ;;border:none;;\"><a href=\"/wiki/Predlo%C5%BEak:Tehnologija\" title=\"Predložak:Tehnologija\"><span style=\";;border:none;;\" title=\"Vidi ovaj predložak.\">v</span></a> • <a href=\"/wiki/Razgovor_o_predlo%C5%A1ku:Tehnologija\" title=\"Razgovor o predlošku:Tehnologija\"><span style=\"color:#002bb8;;;border:none;;\" title=\"Razgovor o ovom predlošku.\">r</span></a> • <a class=\"external text\" href=\"https://hr.wikipedia.org/w/index.php?title=Predlo%C5%BEak:Tehnologija&amp;action=edit\"><span style=\"color:#002bb8;;;border:none;;\" title=\"Možete urediti ovaj predložak. Prije spremanja provjerite kako će izgledati.\">u</span></a></div></div><span style=\"font-size:110%;\">Glavna polja <a href=\"/wiki/Tehnologija\" title=\"Tehnologija\">tehnologije</a></span></th></tr><tr style=\"height:2px;\"><td></td></tr><tr><td class=\"navbox-grupa\" style=\";;\"><a class=\"new\" href=\"/w/index.php?title=Primijenjena_znanost&amp;action=edit&amp;redlink=1\" title=\"Primijenjena znanost (stranica ne postoji)\">Primijenjena znanost</a></td><td class=\"navbox-popis navbox-neparni\" style=\"text-align:left;border-left:2px solid #fdfdfd;width:100%;padding:0px;;;\"><div style=\"padding:0em 0.25em\"><a class=\"mw-selflink selflink\">umjetna inteligencija</a> • <a class=\"new\" href=\"/w/index.php?title=Kerami%C4%8Dko_in%C5%BEenjerstvo&amp;action=edit&amp;redlink=1\" title=\"Keramičko inženjerstvo (stranica ne postoji)\">keramičko inženjerstvo</a> • <a href=\"/wiki/Ra%C4%8Dunarstvo\" title=\"Računarstvo\">računarstvo</a> • <a href=\"/wiki/Elektronika\" title=\"Elektronika\">elektronika</a> • <a href=\"/wiki/Energija\" title=\"Energija\">energija</a> • <a href=\"/wiki/Pohrana_energije\" title=\"Pohrana energije\">pohrana energije</a> • <a class=\"new\" href=\"/w/index.php?title=In%C5%BEenjerska_fizika&amp;action=edit&amp;redlink=1\" title=\"Inženjerska fizika (stranica ne postoji)\">inženjerska fizika</a> • <a class=\"new\" href=\"/w/index.php?title=Tehnologija_okoli%C5%A1a&amp;action=edit&amp;redlink=1\" title=\"Tehnologija okoliša (stranica ne postoji)\">tehnologija okoliša</a> • <a href=\"/wiki/Znanost_o_materijalima\" title=\"Znanost o materijalima\">znanost o materijalima</a> • <a class=\"new\" href=\"/w/index.php?title=Mikrotehnologija&amp;action=edit&amp;redlink=1\" title=\"Mikrotehnologija (stranica ne postoji)\">mikrotehnologija</a> • <a href=\"/wiki/Nanotehnologija\" title=\"Nanotehnologija\">nanotehnologija</a> • <a class=\"new\" href=\"/w/index.php?title=Nuklearna_tehnologija&amp;action=edit&amp;redlink=1\" title=\"Nuklearna tehnologija (stranica ne postoji)\">nuklearna tehnologija</a> • <a class=\"new\" href=\"/w/index.php?title=Opti%C4%8Dko_in%C5%BEenjerstvo&amp;action=edit&amp;redlink=1\" title=\"Optičko inženjerstvo (stranica ne postoji)\">optičko inženjerstvo</a></div></td></tr><tr style=\"height:2px\"><td></td></tr><tr><td class=\"navbox-grupa\" style=\";;\"><a href=\"/wiki/Informacija\" title=\"Informacija\">Informacija</a> i <a href=\"/wiki/Komunikacija\" title=\"Komunikacija\">komunikacija</a></td><td class=\"navbox-popis navbox-parni\" style=\"text-align:left;border-left:2px solid #fdfdfd;width:100%;padding:0px;;;\"><div style=\"padding:0em 0.25em\"><a href=\"/wiki/Komunikacija\" title=\"Komunikacija\">komunikacija</a> • <a href=\"/wiki/Grafika\" title=\"Grafika\">grafika</a> • <a class=\"new\" href=\"/w/index.php?title=Glazbena_tehnologija&amp;action=edit&amp;redlink=1\" title=\"Glazbena tehnologija (stranica ne postoji)\">glazbena tehnologija</a> • <a class=\"mw-redirect\" href=\"/wiki/Prepoznavanje_govora\" title=\"Prepoznavanje govora\">prepoznavanje govora</a> • <a class=\"new\" href=\"/w/index.php?title=Vizualna_tehnologija&amp;action=edit&amp;redlink=1\" title=\"Vizualna tehnologija (stranica ne postoji)\">vizualna tehnologija</a></div></td></tr><tr style=\"height:2px\"><td></td></tr><tr><td class=\"navbox-grupa\" style=\";;\"><a href=\"/wiki/Industrija\" title=\"Industrija\">Industrija</a></td><td class=\"navbox-popis navbox-neparni\" style=\"text-align:left;border-left:2px solid #fdfdfd;width:100%;padding:0px;;;\"><div style=\"padding:0em 0.25em\"><a class=\"new\" href=\"/w/index.php?title=Konstruiranje&amp;action=edit&amp;redlink=1\" title=\"Konstruiranje (stranica ne postoji)\">konstruiranje</a> • <a href=\"/wiki/Proizvodnja\" title=\"Proizvodnja\">proizvodnja</a> • <a href=\"/wiki/Strojevi\" title=\"Strojevi\">strojevi</a> • <a href=\"/wiki/Rudarstvo\" title=\"Rudarstvo\">rudarstvo</a></div></td></tr><tr style=\"height:2px\"><td></td></tr><tr><td class=\"navbox-grupa\" style=\";;\"><a href=\"/wiki/Vojska\" title=\"Vojska\">Vojska</a></td><td class=\"navbox-popis navbox-parni\" style=\"text-align:left;border-left:2px solid #fdfdfd;width:100%;padding:0px;;;\"><div style=\"padding:0em 0.25em\"><a href=\"/wiki/Bomba\" title=\"Bomba\">bombe</a> • <a href=\"/wiki/Oru%C5%BEje\" title=\"Oružje\">oružje</a> i <a class=\"mw-redirect\" href=\"/wiki/Strjeljivo\" title=\"Strjeljivo\">strjeljivo</a> • <a class=\"new\" href=\"/w/index.php?title=Vojna_tehnologija_i_oprema&amp;action=edit&amp;redlink=1\" title=\"Vojna tehnologija i oprema (stranica ne postoji)\">vojna tehnologija i oprema</a> • <a class=\"new\" href=\"/w/index.php?title=Brodsko_in%C5%BEenjerstvo&amp;action=edit&amp;redlink=1\" title=\"Brodsko inženjerstvo (stranica ne postoji)\">brodsko inženjerstvo</a></div></td></tr><tr style=\"height:2px\"><td></td></tr><tr><td class=\"navbox-grupa\" style=\";;\"><a href=\"/wiki/Ku%C4%87anstvo\" title=\"Kućanstvo\">Kućanstvo</a></td><td class=\"navbox-popis navbox-neparni\" style=\"text-align:left;border-left:2px solid #fdfdfd;width:100%;padding:0px;;;\"><div style=\"padding:0em 0.25em\"><a href=\"/wiki/Ku%C4%87ni_ure%C4%91aji\" title=\"Kućni uređaji\">kućni uređaji</a> • <a href=\"/wiki/Ku%C4%87na_tehnologija\" title=\"Kućna tehnologija\">kućna tehnologija</a> • <a class=\"new\" href=\"/w/index.php?title=Obrazovna_tehnologija&amp;action=edit&amp;redlink=1\" title=\"Obrazovna tehnologija (stranica ne postoji)\">obrazovna tehnologija</a> • <a href=\"/wiki/Prehrambena_tehnologija\" title=\"Prehrambena tehnologija\">prehrambena tehnologija</a></div></td></tr><tr style=\"height:2px\"><td></td></tr><tr><td class=\"navbox-grupa\" style=\";;\"><a href=\"/wiki/In%C5%BEenjerstvo\" title=\"Inženjerstvo\">Inženjerstvo</a></td><td class=\"navbox-popis navbox-parni\" style=\"text-align:left;border-left:2px solid #fdfdfd;width:100%;padding:0px;;;\"><div style=\"padding:0em 0.25em\"><a class=\"new\" href=\"/w/index.php?title=Svemirsko_in%C5%BEenjerstvo&amp;action=edit&amp;redlink=1\" title=\"Svemirsko inženjerstvo (stranica ne postoji)\">svemirsko</a> • <a class=\"new\" href=\"/w/index.php?title=Poljoprivredno_in%C5%BEenjerstvo&amp;action=edit&amp;redlink=1\" title=\"Poljoprivredno inženjerstvo (stranica ne postoji)\">poljodjelsko</a> • <a class=\"new\" href=\"/w/index.php?title=Arhitekturalno_in%C5%BEenjerstvo&amp;action=edit&amp;redlink=1\" title=\"Arhitekturalno inženjerstvo (stranica ne postoji)\">arhitekturalno</a> • <a class=\"new\" href=\"/w/index.php?title=Bioin%C5%BEenjerstvo&amp;action=edit&amp;redlink=1\" title=\"Bioinženjerstvo (stranica ne postoji)\">bioinženjerstvo</a> • <a class=\"new\" href=\"/w/index.php?title=Biokemijsko_in%C5%BEenjerstvo&amp;action=edit&amp;redlink=1\" title=\"Biokemijsko inženjerstvo (stranica ne postoji)\">biokemijsko</a> • <a class=\"new\" href=\"/w/index.php?title=Biomedicinsko_in%C5%BEenjerstvo&amp;action=edit&amp;redlink=1\" title=\"Biomedicinsko inženjerstvo (stranica ne postoji)\">biomedicinsko</a> • <a class=\"new\" href=\"/w/index.php?title=Kerami%C4%8Dko_in%C5%BEenjerstvo&amp;action=edit&amp;redlink=1\" title=\"Keramičko inženjerstvo (stranica ne postoji)\">keramičko</a> • <a href=\"/wiki/Kemijsko_in%C5%BEenjerstvo\" title=\"Kemijsko inženjerstvo\">kemijsko</a> • <a href=\"/wiki/Gra%C4%91evinarstvo\" title=\"Građevinarstvo\">građevinarstvo</a> • <a href=\"/wiki/Ra%C4%8Dunalno_in%C5%BEenjerstvo\" title=\"Računalno inženjerstvo\">računalno</a> • <a class=\"new\" href=\"/w/index.php?title=Konstrukcijsko_in%C5%BEenjerstvo&amp;action=edit&amp;redlink=1\" title=\"Konstrukcijsko inženjerstvo (stranica ne postoji)\">konstrukcijsko</a> • <a class=\"new\" href=\"/w/index.php?title=Kriogenika&amp;action=edit&amp;redlink=1\" title=\"Kriogenika (stranica ne postoji)\">kriogenika</a> • <a href=\"/wiki/Elektrotehnika\" title=\"Elektrotehnika\">elektrotehnika</a> • <a class=\"new\" href=\"/w/index.php?title=Elektroni%C4%8Dko_in%C5%BEenjerstvo&amp;action=edit&amp;redlink=1\" title=\"Elektroničko inženjerstvo (stranica ne postoji)\">elektroničko</a> • <a class=\"new\" href=\"/w/index.php?title=Okoli%C5%A1no_in%C5%BEenjerstvo&amp;action=edit&amp;redlink=1\" title=\"Okolišno inženjerstvo (stranica ne postoji)\">okolišno</a> • <a class=\"new\" href=\"/w/index.php?title=Prehrambeno_in%C5%BEenjerstvo&amp;action=edit&amp;redlink=1\" title=\"Prehrambeno inženjerstvo (stranica ne postoji)\">prehrambeno</a> • <a class=\"new\" href=\"/w/index.php?title=Industrijsko_in%C5%BEenjerstvo&amp;action=edit&amp;redlink=1\" title=\"Industrijsko inženjerstvo (stranica ne postoji)\">industrijsko</a> • <a class=\"new\" href=\"/w/index.php?title=In%C5%BEenjerstvo_materijala&amp;action=edit&amp;redlink=1\" title=\"Inženjerstvo materijala (stranica ne postoji)\">materijala</a> • <a href=\"/wiki/Strojarstvo\" title=\"Strojarstvo\">strojarstvo</a> • <a href=\"/wiki/Mehatronika\" title=\"Mehatronika\">mehatronika</a> • <a href=\"/wiki/Metalurgija\" title=\"Metalurgija\">metalurgija</a> • <a href=\"/wiki/Rudarstvo\" title=\"Rudarstvo\">rudarstvo</a> • <a href=\"/wiki/Brodogradnja\" title=\"Brodogradnja\">pomorsko</a> • <a class=\"new\" href=\"/w/index.php?title=Nuklearno_in%C5%BEenjerstvo&amp;action=edit&amp;redlink=1\" title=\"Nuklearno inženjerstvo (stranica ne postoji)\">nuklearno</a> • <a class=\"new\" href=\"/w/index.php?title=Naftno_in%C5%BEenjerstvo&amp;action=edit&amp;redlink=1\" title=\"Naftno inženjerstvo (stranica ne postoji)\">naftno</a> • <a href=\"/wiki/Programsko_in%C5%BEenjerstvo\" title=\"Programsko inženjerstvo\">programsko</a> • <a class=\"new\" href=\"/w/index.php?title=Strukturalno_in%C5%BEenjerstvo&amp;action=edit&amp;redlink=1\" title=\"Strukturalno inženjerstvo (stranica ne postoji)\">strukturalno</a> • <a class=\"new\" href=\"/w/index.php?title=Sustavsko_in%C5%BEenjerstvo&amp;action=edit&amp;redlink=1\" title=\"Sustavsko inženjerstvo (stranica ne postoji)\">sustavsko</a> • <a class=\"new\" href=\"/w/index.php?title=Tekstilno_in%C5%BEenjerstvo&amp;action=edit&amp;redlink=1\" title=\"Tekstilno inženjerstvo (stranica ne postoji)\">tekstilno</a> • <a class=\"new\" href=\"/w/index.php?title=In%C5%BEenjerstvo_tkiva&amp;action=edit&amp;redlink=1\" title=\"Inženjerstvo tkiva (stranica ne postoji)\">tkiva</a></div></td></tr><tr style=\"height:2px\"><td></td></tr><tr><td class=\"navbox-grupa\" style=\";;\"><a href=\"/wiki/Zdravlje\" title=\"Zdravlje\">Zdravlje</a> i <a href=\"/wiki/Sigurnost\" title=\"Sigurnost\">sigurnost</a></td><td class=\"navbox-popis navbox-neparni\" style=\"text-align:left;border-left:2px solid #fdfdfd;width:100%;padding:0px;;;\"><div style=\"padding:0em 0.25em\"><a class=\"new\" href=\"/w/index.php?title=Biomedicinsko_in%C5%BEenjerstvo&amp;action=edit&amp;redlink=1\" title=\"Biomedicinsko inženjerstvo (stranica ne postoji)\">biomedicinsko inženjerstvo</a> • <a href=\"/wiki/Bioinformatika\" title=\"Bioinformatika\">bioinformatika</a> • <a href=\"/wiki/Biotehnologija\" title=\"Biotehnologija\">biotehnologija</a> • <a class=\"new\" href=\"/w/index.php?title=Keminformatika&amp;action=edit&amp;redlink=1\" title=\"Keminformatika (stranica ne postoji)\">keminformatika</a> • <a class=\"new\" href=\"/w/index.php?title=Vatroza%C5%A1tita&amp;action=edit&amp;redlink=1\" title=\"Vatrozaštita (stranica ne postoji)\">vatrozaštita</a> • <a class=\"new\" href=\"/w/index.php?title=Znanost_o_zdravlju&amp;action=edit&amp;redlink=1\" title=\"Znanost o zdravlju (stranica ne postoji)\">tehnologije zdravstva</a> • <a href=\"/wiki/Farmakologija\" title=\"Farmakologija\">farmakologija</a> • <a class=\"new\" href=\"/w/index.php?title=Sigurnosno_in%C5%BEenjerstvo&amp;action=edit&amp;redlink=1\" title=\"Sigurnosno inženjerstvo (stranica ne postoji)\">sigurnosno inženjerstvo</a> • <a class=\"new\" href=\"/w/index.php?title=Sanitarno_in%C5%BEenjerstvo&amp;action=edit&amp;redlink=1\" title=\"Sanitarno inženjerstvo (stranica ne postoji)\">sanitarno inženjerstvo</a></div></td></tr><tr style=\"height:2px\"><td></td></tr><tr><td class=\"navbox-grupa\" style=\";;\"><a class=\"mw-redirect\" href=\"/wiki/Transport\" title=\"Transport\">Transport</a></td><td class=\"navbox-popis navbox-parni\" style=\"text-align:left;border-left:2px solid #fdfdfd;width:100%;padding:0px;;;\"><div style=\"padding:0em 0.25em\"><a class=\"new\" href=\"/w/index.php?title=Zrakoplovno_in%C5%BEenjerstvo&amp;action=edit&amp;redlink=1\" title=\"Zrakoplovno inženjerstvo (stranica ne postoji)\">zrakoplovno inženjerstvo</a> • <a class=\"new\" href=\"/w/index.php?title=Svemirsko_in%C5%BEenjerstvo&amp;action=edit&amp;redlink=1\" title=\"Svemirsko inženjerstvo (stranica ne postoji)\">svemirsko inženjerstvo</a> • <a href=\"/wiki/Brodostrojarstvo\" title=\"Brodostrojarstvo\">pomorsko inženjerstvo</a> • <a href=\"/wiki/Motorno_vozilo\" title=\"Motorno vozilo\">motorna vozila</a> • <a class=\"new\" href=\"/w/index.php?title=Svemirska_tehnologija&amp;action=edit&amp;redlink=1\" title=\"Svemirska tehnologija (stranica ne postoji)\">svemirska tehnologija</a> • <a class=\"mw-redirect\" href=\"/wiki/Transport\" title=\"Transport\">transport</a></div></td></tr></tbody></table></td></tr></tbody></table>\n",
       "<!-- \n",
       "NewPP limit report\n",
       "Parsed by mw1369\n",
       "Cached time: 20211124113100\n",
       "Cache expiry: 1814400\n",
       "Reduced expiry: false\n",
       "Complications: []\n",
       "CPU time usage: 0.087 seconds\n",
       "Real time usage: 0.106 seconds\n",
       "Preprocessor visited node count: 597/1000000\n",
       "Post‐expand include size: 21234/2097152 bytes\n",
       "Template argument size: 6422/2097152 bytes\n",
       "Highest expansion depth: 10/40\n",
       "Expensive parser function count: 0/500\n",
       "Unstrip recursion depth: 0/20\n",
       "Unstrip post‐expand size: 0/5000000 bytes\n",
       "Number of Wikibase entities loaded: 0/400\n",
       "-->\n",
       "<!--\n",
       "Transclusion expansion time report (%,ms,calls,template)\n",
       "100.00%   50.706      1 -total\n",
       " 63.55%   32.224      1 Predložak:Tehnologija\n",
       " 53.96%   27.359      1 Predložak:Navigacija\n",
       " 25.07%   12.711      1 Predložak:Webarchive\n",
       " 22.92%   11.624      1 Predložak:Tnavbar\n",
       " 16.14%    8.182      1 Predložak:DatumFormat\n",
       " 12.99%    6.585      2 Predložak:Bull\n",
       " 10.13%    5.135      1 Predložak:Dz\n",
       "-->\n",
       "<!-- Saved in parser cache with key hrwiki:pcache:idhash:13086-0!canonical and timestamp 20211124113059 and revision id 6011681. Serialized with JSON.\n",
       " -->\n",
       "</div><noscript><img alt=\"\" height=\"1\" src=\"//hr.wikipedia.org/wiki/Special:CentralAutoLogin/start?type=1x1\" style=\"border: none; position: absolute;\" title=\"\" width=\"1\"/></noscript>\n",
       "<div class=\"printfooter\">Dobavljeno iz \"<a dir=\"ltr\" href=\"https://hr.wikipedia.org/w/index.php?title=Umjetna_inteligencija&amp;oldid=6011681\">https://hr.wikipedia.org/w/index.php?title=Umjetna_inteligencija&amp;oldid=6011681</a>\"</div></div>"
      ]
     },
     "execution_count": 10,
     "metadata": {},
     "output_type": "execute_result"
    }
   ],
   "source": [
    "div_list = soup.find_all('div')\n",
    "div_list[10]"
   ]
  },
  {
   "cell_type": "code",
   "execution_count": 11,
   "metadata": {},
   "outputs": [
    {
     "data": {
      "text/plain": [
       "<div aria-labelledby=\"mw-toc-heading\" class=\"toc\" id=\"toc\" role=\"navigation\"><input class=\"toctogglecheckbox\" id=\"toctogglecheckbox\" role=\"button\" style=\"display:none\" type=\"checkbox\"/><div class=\"toctitle\" dir=\"ltr\" lang=\"hr\"><h2 id=\"mw-toc-heading\">Sadržaj</h2><span class=\"toctogglespan\"><label class=\"toctogglelabel\" for=\"toctogglecheckbox\"></label></span></div>\n",
       "<ul>\n",
       "<li class=\"toclevel-1 tocsection-1\"><a href=\"#Povijest\"><span class=\"tocnumber\">1</span> <span class=\"toctext\">Povijest</span></a>\n",
       "<ul>\n",
       "<li class=\"toclevel-2 tocsection-2\"><a href=\"#Razvoj_UI_teorije\"><span class=\"tocnumber\">1.1</span> <span class=\"toctext\">Razvoj UI teorije</span></a></li>\n",
       "<li class=\"toclevel-2 tocsection-3\"><a href=\"#Eksperimentalna_UI_istraživanja\"><span class=\"tocnumber\">1.2</span> <span class=\"toctext\">Eksperimentalna UI istraživanja</span></a></li>\n",
       "</ul>\n",
       "</li>\n",
       "<li class=\"toclevel-1 tocsection-4\"><a href=\"#Ograničena_umjetna_inteligencija\"><span class=\"tocnumber\">2</span> <span class=\"toctext\">Ograničena umjetna inteligencija</span></a></li>\n",
       "<li class=\"toclevel-1 tocsection-5\"><a href=\"#Svjesna_umjetna_inteligencija\"><span class=\"tocnumber\">3</span> <span class=\"toctext\">Svjesna umjetna inteligencija</span></a></li>\n",
       "<li class=\"toclevel-1 tocsection-6\"><a href=\"#Polja_unutar_umjetne_inteligencije\"><span class=\"tocnumber\">4</span> <span class=\"toctext\">Polja unutar umjetne inteligencije</span></a>\n",
       "<ul>\n",
       "<li class=\"toclevel-2 tocsection-7\"><a href=\"#Klasična_UI\"><span class=\"tocnumber\">4.1</span> <span class=\"toctext\">Klasična UI</span></a></li>\n",
       "<li class=\"toclevel-2 tocsection-8\"><a href=\"#Umjetni_život_i_evolucijsko_računarstvo\"><span class=\"tocnumber\">4.2</span> <span class=\"toctext\">Umjetni život i evolucijsko računarstvo</span></a></li>\n",
       "</ul>\n",
       "</li>\n",
       "<li class=\"toclevel-1 tocsection-9\"><a href=\"#Tipična_područja_primjene\"><span class=\"tocnumber\">5</span> <span class=\"toctext\">Tipična područja primjene</span></a></li>\n",
       "<li class=\"toclevel-1 tocsection-10\"><a href=\"#Vanjske_poveznice\"><span class=\"tocnumber\">6</span> <span class=\"toctext\">Vanjske poveznice</span></a></li>\n",
       "</ul>\n",
       "</div>"
      ]
     },
     "execution_count": 11,
     "metadata": {},
     "output_type": "execute_result"
    }
   ],
   "source": [
    "soup.find('div', id='toc')"
   ]
  },
  {
   "cell_type": "code",
   "execution_count": null,
   "metadata": {},
   "outputs": [],
   "source": []
  }
 ],
 "metadata": {
  "interpreter": {
   "hash": "9d2ef954296ebd7e0bb49b623363ba656564d86ad2773dfb8994626ebb35e882"
  },
  "kernelspec": {
   "display_name": "Python 3.8.2 64-bit",
   "language": "python",
   "name": "python3"
  },
  "language_info": {
   "codemirror_mode": {
    "name": "ipython",
    "version": 3
   },
   "file_extension": ".py",
   "mimetype": "text/x-python",
   "name": "python",
   "nbconvert_exporter": "python",
   "pygments_lexer": "ipython3",
   "version": "3.8.2"
  },
  "orig_nbformat": 4
 },
 "nbformat": 4,
 "nbformat_minor": 2
}
