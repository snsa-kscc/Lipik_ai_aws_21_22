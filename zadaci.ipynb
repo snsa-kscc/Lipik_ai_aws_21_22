{
 "cells": [
  {
   "cell_type": "markdown",
   "metadata": {},
   "source": [
    "## zadatak 1"
   ]
  },
  {
   "cell_type": "code",
   "execution_count": 2,
   "metadata": {},
   "outputs": [
    {
     "name": "stdout",
     "output_type": "stream",
     "text": [
      "True\n",
      "False\n",
      "False\n",
      "True\n",
      "True\n",
      "False\n"
     ]
    }
   ],
   "source": [
    "a = 5\n",
    "b = 7\n",
    "\n",
    "print(a != b)\n",
    "print(a == b)\n",
    "print(a > b)\n",
    "print(a < b)\n",
    "print(a <= b)\n",
    "print(a >= b)"
   ]
  },
  {
   "cell_type": "markdown",
   "metadata": {},
   "source": [
    "## zadatak 2"
   ]
  },
  {
   "cell_type": "code",
   "execution_count": 4,
   "metadata": {},
   "outputs": [
    {
     "name": "stdout",
     "output_type": "stream",
     "text": [
      "False\n",
      "True\n",
      "False\n"
     ]
    }
   ],
   "source": [
    "a = True\n",
    "b = False\n",
    "\n",
    "print(a and b)\n",
    "print(a or b)\n",
    "print(not a)"
   ]
  },
  {
   "cell_type": "markdown",
   "metadata": {},
   "source": [
    "## zadatak 4"
   ]
  },
  {
   "cell_type": "code",
   "execution_count": 12,
   "metadata": {},
   "outputs": [
    {
     "name": "stdout",
     "output_type": "stream",
     "text": [
      "5\n",
      "4\n"
     ]
    }
   ],
   "source": [
    "a = int(input(\"Unesite dvoznamenkasti broj: \"))\n",
    "b = int(input(\"Unesite dvoznamenkasti broj: \"))\n",
    "\n",
    "_a = b % 10\n",
    "b = a % 10\n",
    "\n",
    "a = _a\n",
    "\n",
    "print(a)\n",
    "print(b)\n"
   ]
  },
  {
   "cell_type": "markdown",
   "metadata": {},
   "source": [
    "## zadatak 5"
   ]
  },
  {
   "cell_type": "code",
   "execution_count": null,
   "metadata": {},
   "outputs": [],
   "source": [
    "a = float(input(\"Unesite broj: \"))\n",
    "b = float(input(\"Unesite broj: \"))\n",
    "c = float(input(\"Unesite broj: \"))\n",
    "d = float(input(\"Unesite broj: \"))\n",
    "e = float(input(\"Unesite broj: \"))\n",
    "f = float(input(\"Unesite broj: \"))\n",
    "g = float(input(\"Unesite broj: \"))\n",
    "h = float(input(\"Unesite broj: \"))\n",
    "\n",
    "print(a + b / c * d**e // f - g % h)"
   ]
  },
  {
   "cell_type": "markdown",
   "metadata": {},
   "source": [
    "## zadatak 6"
   ]
  },
  {
   "cell_type": "code",
   "execution_count": 27,
   "metadata": {},
   "outputs": [
    {
     "name": "stdout",
     "output_type": "stream",
     "text": [
      "11.0\n",
      "3.660563691113593\n"
     ]
    }
   ],
   "source": [
    "a = int(input(\"Unesite broj: \"))\n",
    "b = list(range(a))\t\n",
    "\n",
    "def mean():\n",
    "\treturn sum(b) / len(b)\n",
    "\n",
    "print(mean())\n",
    "\n",
    "import math\n",
    "\n",
    "def circumference():\n",
    "\treturn a / (2 * math.pi)\n",
    "\n",
    "print(circumference())\n",
    "\n"
   ]
  },
  {
   "cell_type": "markdown",
   "metadata": {},
   "source": [
    "## zadatak 7"
   ]
  },
  {
   "cell_type": "code",
   "execution_count": 45,
   "metadata": {},
   "outputs": [
    {
     "name": "stdout",
     "output_type": "stream",
     "text": [
      "3.1416\n",
      "9.86965056\n",
      "3.28988352\n"
     ]
    }
   ],
   "source": [
    "a = float(input(\"Unesite broj: \"))\n",
    "\n",
    "import math\n",
    "\n",
    "_pi = format(math.pi, '.4f')\n",
    "\n",
    "print(_pi)\n",
    "\n",
    "def square():\n",
    "\tfloat_pi = float(_pi)\n",
    "\treturn float_pi ** 2\n",
    "\n",
    "def square_devide():\n",
    "\treturn square() / a\n",
    "\n",
    "print(square())\n",
    "\n",
    "print(square_devide())\n",
    "\n"
   ]
  },
  {
   "cell_type": "markdown",
   "metadata": {},
   "source": [
    "## zadatak 8"
   ]
  },
  {
   "cell_type": "code",
   "execution_count": null,
   "metadata": {},
   "outputs": [],
   "source": []
  },
  {
   "cell_type": "markdown",
   "metadata": {},
   "source": [
    "## zadatak 9"
   ]
  },
  {
   "cell_type": "code",
   "execution_count": 46,
   "metadata": {},
   "outputs": [
    {
     "name": "stdout",
     "output_type": "stream",
     "text": [
      "(1, 37, 44)\n"
     ]
    }
   ],
   "source": [
    "a = int(input(\"Unesite broj: \"))\n",
    "\n",
    "if a < 86400:\n",
    "\tdef hours_minutes_seconds():\n",
    "\t\treturn a // 3600, a % 3600 // 60, a % 3600 % 60\n",
    "\n",
    "print(hours_minutes_seconds())\n"
   ]
  },
  {
   "cell_type": "markdown",
   "metadata": {},
   "source": [
    "## zadatak 10"
   ]
  },
  {
   "cell_type": "code",
   "execution_count": 70,
   "metadata": {},
   "outputs": [
    {
     "name": "stdout",
     "output_type": "stream",
     "text": [
      "702936467\n",
      "0.000\n",
      "9.000\n",
      "6.000\n",
      "6.000\n",
      "21\n"
     ]
    }
   ],
   "source": [
    "import random\n",
    "\n",
    "rand_num = random.randrange(1,1000000000)\n",
    "\n",
    "print(rand_num)\n",
    "\n",
    "str_rand_num = str(rand_num)\n",
    "\n",
    "for i in str_rand_num[1::2]:\n",
    "\tprint(\"{:.3f}\".format(float(i)))\n",
    "\n",
    "\tdef sum_of_digits():\n",
    "\t\treturn sum(int(i) for i in str_rand_num[1::2])\n",
    "\n",
    "print(sum_of_digits())\n",
    "\n",
    "\n"
   ]
  },
  {
   "cell_type": "code",
   "execution_count": null,
   "metadata": {},
   "outputs": [],
   "source": []
  }
 ],
 "metadata": {
  "interpreter": {
   "hash": "31f2aee4e71d21fbe5cf8b01ff0e069b9275f58929596ceb00d14d90e3e16cd6"
  },
  "kernelspec": {
   "display_name": "Python 3.8.2 64-bit",
   "language": "python",
   "name": "python3"
  },
  "language_info": {
   "codemirror_mode": {
    "name": "ipython",
    "version": 3
   },
   "file_extension": ".py",
   "mimetype": "text/x-python",
   "name": "python",
   "nbconvert_exporter": "python",
   "pygments_lexer": "ipython3",
   "version": "3.8.2"
  },
  "orig_nbformat": 4
 },
 "nbformat": 4,
 "nbformat_minor": 2
}
