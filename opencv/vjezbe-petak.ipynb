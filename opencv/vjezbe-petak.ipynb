{
 "cells": [
  {
   "cell_type": "markdown",
   "metadata": {},
   "source": [
    "# zadaci petak 10.12."
   ]
  },
  {
   "cell_type": "code",
   "execution_count": 2,
   "metadata": {},
   "outputs": [],
   "source": [
    "import numpy as np"
   ]
  },
  {
   "cell_type": "code",
   "execution_count": 11,
   "metadata": {},
   "outputs": [],
   "source": [
    "a = np.array([1, 2, 3])\n",
    "\n",
    "python_polje = [[1,2,3,4], [5,6,7,8]]"
   ]
  },
  {
   "cell_type": "code",
   "execution_count": 30,
   "metadata": {},
   "outputs": [
    {
     "name": "stdout",
     "output_type": "stream",
     "text": [
      "(2, 4)\n",
      "int64\n"
     ]
    }
   ],
   "source": [
    "a.dtype = np.float32\n",
    "a.dtype\n",
    "\n",
    "b = np.array(python_polje)\n",
    "print(b.shape)\n",
    "print(b.dtype)"
   ]
  },
  {
   "cell_type": "code",
   "execution_count": 35,
   "metadata": {},
   "outputs": [],
   "source": [
    "c = np.zeros((4,2))\n",
    "d = np.ones((2,3), dtype=np.uint8)"
   ]
  },
  {
   "cell_type": "code",
   "execution_count": 55,
   "metadata": {},
   "outputs": [
    {
     "data": {
      "text/plain": [
       "array([[7, 7, 7],\n",
       "       [7, 7, 7]])"
      ]
     },
     "execution_count": 55,
     "metadata": {},
     "output_type": "execute_result"
    }
   ],
   "source": [
    "e = np.empty((2,3))\n",
    "\n",
    "f = np.full((2,3), 7)\n",
    "f"
   ]
  },
  {
   "cell_type": "code",
   "execution_count": 59,
   "metadata": {},
   "outputs": [
    {
     "data": {
      "text/plain": [
       "array([10, 15, 20, 25])"
      ]
     },
     "execution_count": 59,
     "metadata": {},
     "output_type": "execute_result"
    }
   ],
   "source": [
    "g = np.arange(10, 30, 5)\n",
    "g"
   ]
  },
  {
   "cell_type": "code",
   "execution_count": 34,
   "metadata": {},
   "outputs": [
    {
     "name": "stdout",
     "output_type": "stream",
     "text": [
      "[ 5.    6.25  7.5   8.75 10.  ]\n"
     ]
    }
   ],
   "source": [
    "h = np.linspace(5, 10, num=5)\n",
    "print(h)"
   ]
  },
  {
   "cell_type": "code",
   "execution_count": 36,
   "metadata": {},
   "outputs": [
    {
     "name": "stdout",
     "output_type": "stream",
     "text": [
      "[5 7 9]\n",
      "[-3 -3 -3]\n",
      "[ 4 10 18]\n",
      "[0.25 0.4  0.5 ]\n"
     ]
    }
   ],
   "source": [
    "i = np.array([1,2,3])\n",
    "j = np.array([4,5,6])\n",
    "\n",
    "print(i + j)\n",
    "print(i - j)\n",
    "print(i * j)\n",
    "print(i / j)"
   ]
  },
  {
   "cell_type": "code",
   "execution_count": 18,
   "metadata": {},
   "outputs": [
    {
     "name": "stdout",
     "output_type": "stream",
     "text": [
      "[[ 7 16]\n",
      " [40 55]]\n"
     ]
    },
    {
     "data": {
      "text/plain": [
       "array([[27, 30],\n",
       "       [78, 87]])"
      ]
     },
     "execution_count": 18,
     "metadata": {},
     "output_type": "execute_result"
    }
   ],
   "source": [
    "k = np.array([[1,2], [4,5]])\n",
    "l = np.array([[7,8], [10,11]])\n",
    "\n",
    "print(k * l)\n",
    "m = np.matmul(k, l)\n",
    "\n",
    "m\n"
   ]
  },
  {
   "cell_type": "code",
   "execution_count": 19,
   "metadata": {},
   "outputs": [],
   "source": [
    "n = np.array(\n",
    "[[1,2,3,4],\n",
    "[5,6,7,8],\n",
    "[9,10,11,12],\n",
    "[13,14,15,16]])\n",
    "\n"
   ]
  },
  {
   "cell_type": "markdown",
   "metadata": {},
   "source": [
    "indexiranje - start, end, stop [start, end, step]"
   ]
  },
  {
   "cell_type": "code",
   "execution_count": 21,
   "metadata": {},
   "outputs": [
    {
     "name": "stdout",
     "output_type": "stream",
     "text": [
      "[[ 6  8]\n",
      " [14 16]]\n"
     ]
    }
   ],
   "source": [
    "print(n[1::2,1::2])"
   ]
  },
  {
   "cell_type": "markdown",
   "metadata": {},
   "source": [
    "reshape iz 2-4 u 4-2"
   ]
  },
  {
   "cell_type": "code",
   "execution_count": 8,
   "metadata": {},
   "outputs": [
    {
     "data": {
      "text/plain": [
       "array([[1, 2],\n",
       "       [3, 4],\n",
       "       [5, 6],\n",
       "       [7, 8]])"
      ]
     },
     "execution_count": 8,
     "metadata": {},
     "output_type": "execute_result"
    }
   ],
   "source": [
    "r = np.array([[1,2,3,4],[5,6,7,8]])\n",
    "\n",
    "s = r.reshape(4,2)\n",
    "\n",
    "s\n"
   ]
  },
  {
   "cell_type": "code",
   "execution_count": 11,
   "metadata": {},
   "outputs": [
    {
     "data": {
      "text/plain": [
       "array([[1, 5],\n",
       "       [2, 6],\n",
       "       [3, 7],\n",
       "       [4, 8]])"
      ]
     },
     "execution_count": 11,
     "metadata": {},
     "output_type": "execute_result"
    }
   ],
   "source": [
    "t = r.swapaxes(0,1)\n",
    "t"
   ]
  },
  {
   "cell_type": "code",
   "execution_count": 25,
   "metadata": {},
   "outputs": [
    {
     "data": {
      "text/plain": [
       "array([[1],\n",
       "       [2],\n",
       "       [3],\n",
       "       [4],\n",
       "       [5]])"
      ]
     },
     "execution_count": 25,
     "metadata": {},
     "output_type": "execute_result"
    }
   ],
   "source": [
    "a = np.array([[1,2,3,4,5]])\n",
    "b = a.swapaxes(0,1)\n",
    "b"
   ]
  },
  {
   "cell_type": "code",
   "execution_count": 31,
   "metadata": {},
   "outputs": [
    {
     "name": "stdout",
     "output_type": "stream",
     "text": [
      "120\n",
      "0\n",
      "14\n",
      "8.0\n",
      "[  1   3   6  10  15  21  28  36  45  55  66  78  91 105 120]\n",
      "[            1             2             6            24           120\n",
      "           720          5040         40320        362880       3628800\n",
      "      39916800     479001600    6227020800   87178291200 1307674368000]\n",
      "4.320493798938574\n",
      "18.666666666666668\n",
      "14\n",
      "8.0\n",
      "1307674368000\n"
     ]
    },
    {
     "data": {
      "text/plain": [
       "array([[ 1,  2,  3,  4,  5],\n",
       "       [ 6,  7,  8,  9, 10],\n",
       "       [11, 12, 13, 14, 15]])"
      ]
     },
     "execution_count": 31,
     "metadata": {},
     "output_type": "execute_result"
    }
   ],
   "source": [
    "zbroj = np.array([[1,2,3,4,5],[6,7,8,9,10],[11,12,13,14,15]])\n",
    "\n",
    "print(zbroj.sum())\n",
    "print(zbroj.argmin())\n",
    "print(zbroj.argmax())\n",
    "print(zbroj.mean())\n",
    "print(zbroj.cumsum())\n",
    "print(zbroj.cumprod())\n",
    "print(zbroj.std())\n",
    "print(zbroj.var())\n",
    "print(zbroj.ptp())\n",
    "print(zbroj.mean())\n",
    "print(zbroj.prod())\n",
    "zbroj.sort()\n",
    "\n",
    "zbroj"
   ]
  },
  {
   "cell_type": "markdown",
   "metadata": {},
   "source": [
    "# rješavanje zadataka"
   ]
  },
  {
   "cell_type": "markdown",
   "metadata": {},
   "source": [
    "1. Zadatak\n",
    "Stvorite Numpy array objekt iz Python 3D matrice veličine 3x4x2. Tip elemenata Numpy polja mora biti numpy.float64.\n",
    "Ispišite na ekran:\n",
    "● Broj osi\n",
    "● Dimenzije polja\n",
    "● Ukupni broj elemenata u polju\n",
    "● Tip elemenata u polju\n",
    " \n",
    "2. Zadatak\n",
    "Promijenite tip Numpy polja iz prethodnog zadatka u np.int16, te ispišite na ekran novi tip polja.\n",
    "3. Zadatak\n",
    "Stvorite 2x7x3 Numpy polje tipa numpy.int32 čiji svi elementi imaju vrijednost 9.\n",
    "4. Zadatak\n",
    "Koristeći odgovarajuću Numpy funkciju, Stvorite Numpy polje koje sadrži svaki treći cjelobrojni broj u rasponu [3, 15>.\n",
    "5. Zadatak\n",
    "Koristeći odgovarajuću Numpy funkciju, Stvorite Numpy polje koji sadrži 12 jednoliko raspoređenih brojeva u rasponu [2, 19].\n",
    " \n",
    "6. Zadatak\n",
    "Stvorite jediničnu matricu dimenzije 4x4, te još jednu matricu istih dimenzija čiji svi elementi imaju vrijednost 9. Ispišite na ekran:\n",
    "● Zbroj\n",
    "● Razliku\n",
    "● Umnožak (element po element)\n",
    "● Količnik\n",
    " \n",
    "7. Zadatak\n",
    "Stvorite 1D ndarray od 10 elemenata proizvoljnih vrijednosti. Bez korištenja for petlje postavite svaki drugi element u rasponu indeksa [2, 7> na vrijednost 99.\n",
    "8. Zadatak\n",
    "Stvorite 2D ndarray dimenzija 5x6 s elementima proizvoljnih vrijednosti. Bez korištelja for petlje izdvojite svaki drugi stupac u zasebnu varijablu. Također, u zasebnu varijablu izdvojite posljednja 3 retka.\n",
    " \n",
    "9. Zadatak\n",
    "Stvorite 2D Numpy polje dimenzija 16x16 proizvoljnih vrijednosti. Stvorite novo Numpy polje koje sadrži iste elemente prvog polja, ali u obliku 4x8x8. Koja Numpy funkcija je prigodna kako bi se ovo ostvarilo? Vizualizirajte oblik novog ndarray-a. Dovoljna je skica na papiru ili skica u nekom digitalnom alatu.\n",
    " \n",
    "10. Zadatak\n",
    "Stvorite 3D Numpy polje dimenzija 3x576x720. Stvorite novo Numpy polje koje sadrži iste elemente prvog polja, ali u obliku 576x720x3. Koja Numpy funkcija je prigodna kako bi se ovo ostvarilo?\n",
    "11. Zadatak\n",
    "Stvorite 2D Numpy polje dimenzija 2x3. Ukoliko je srednja vrijednost svih elemenata veća od 10 ispišite sumu svih elemenata, u suprotnom ispišite vrijednost najvećeg elementa u polju."
   ]
  },
  {
   "cell_type": "markdown",
   "metadata": {},
   "source": [
    "## zadatak 1"
   ]
  },
  {
   "cell_type": "code",
   "execution_count": 52,
   "metadata": {},
   "outputs": [
    {
     "name": "stdout",
     "output_type": "stream",
     "text": [
      "(3, 4, 2)\n",
      "3\n",
      "24\n",
      "float64\n"
     ]
    }
   ],
   "source": [
    "rndm = np.random.randint(0,10, size=(3,4,2))\n",
    "rndm\n",
    "\n",
    "rndm_array = np.array(rndm)\n",
    "rndm_array.dtype = np.float64\n",
    "print(rndm_array.shape)\n",
    "print(rndm_array.ndim)\n",
    "print(rndm_array.size)\n",
    "print(rndm_array.dtype)"
   ]
  },
  {
   "cell_type": "markdown",
   "metadata": {},
   "source": [
    "## zadatak 2"
   ]
  },
  {
   "cell_type": "code",
   "execution_count": 54,
   "metadata": {},
   "outputs": [
    {
     "name": "stdout",
     "output_type": "stream",
     "text": [
      "int16\n"
     ]
    }
   ],
   "source": [
    "rndm_array.dtype = np.int16\n",
    "print(rndm_array.dtype)"
   ]
  },
  {
   "cell_type": "markdown",
   "metadata": {},
   "source": [
    "## zadatak 3\n",
    "\n",
    "Stvorite 2x7x3 Numpy polje tipa numpy.int32 čiji svi elementi imaju vrijednost 9."
   ]
  },
  {
   "cell_type": "code",
   "execution_count": 58,
   "metadata": {},
   "outputs": [
    {
     "data": {
      "text/plain": [
       "array([[[9, 9, 9],\n",
       "        [9, 9, 9],\n",
       "        [9, 9, 9],\n",
       "        [9, 9, 9],\n",
       "        [9, 9, 9],\n",
       "        [9, 9, 9],\n",
       "        [9, 9, 9]],\n",
       "\n",
       "       [[9, 9, 9],\n",
       "        [9, 9, 9],\n",
       "        [9, 9, 9],\n",
       "        [9, 9, 9],\n",
       "        [9, 9, 9],\n",
       "        [9, 9, 9],\n",
       "        [9, 9, 9]]], dtype=int32)"
      ]
     },
     "execution_count": 58,
     "metadata": {},
     "output_type": "execute_result"
    }
   ],
   "source": [
    "only_nine = np.full((2, 7, 3), 9, dtype=np.int32)\n",
    "only_nine"
   ]
  },
  {
   "cell_type": "markdown",
   "metadata": {},
   "source": [
    "## zadatak 4\n",
    "\n",
    "Koristeći odgovarajuću Numpy funkciju, Stvorite Numpy polje koje sadrži svaki treći cjelobrojni broj u rasponu [3, 15>."
   ]
  },
  {
   "cell_type": "code",
   "execution_count": 60,
   "metadata": {},
   "outputs": [
    {
     "data": {
      "text/plain": [
       "array([ 3,  6,  9, 12])"
      ]
     },
     "execution_count": 60,
     "metadata": {},
     "output_type": "execute_result"
    }
   ],
   "source": [
    "my_array = np.arange(3, 15, 3)\n",
    "my_array"
   ]
  },
  {
   "cell_type": "markdown",
   "metadata": {},
   "source": [
    "## zadatak 5\n",
    "\n",
    "Koristeći odgovarajuću Numpy funkciju, Stvorite Numpy polje koji sadrži 12 jednoliko raspoređenih brojeva u rasponu [2, 19]."
   ]
  },
  {
   "cell_type": "code",
   "execution_count": 62,
   "metadata": {},
   "outputs": [
    {
     "data": {
      "text/plain": [
       "array([ 2.        ,  3.54545455,  5.09090909,  6.63636364,  8.18181818,\n",
       "        9.72727273, 11.27272727, 12.81818182, 14.36363636, 15.90909091,\n",
       "       17.45454545, 19.        ])"
      ]
     },
     "execution_count": 62,
     "metadata": {},
     "output_type": "execute_result"
    }
   ],
   "source": [
    "my_arrray = np.linspace(2.0, 19.0, num=12)\n",
    "my_arrray\n"
   ]
  },
  {
   "cell_type": "markdown",
   "metadata": {},
   "source": [
    "## zadatak 6\n",
    "\n",
    "Stvorite jediničnu matricu dimenzije 4x4, te još jednu matricu istih dimenzija čiji svi elementi imaju vrijednost 9. Ispišite na ekran:\n",
    "● Zbroj\n",
    "● Razliku\n",
    "● Umnožak (element po element)\n",
    "● Količnik"
   ]
  },
  {
   "cell_type": "code",
   "execution_count": 7,
   "metadata": {},
   "outputs": [
    {
     "name": "stdout",
     "output_type": "stream",
     "text": [
      "[[10. 10. 10. 10.]\n",
      " [10. 10. 10. 10.]\n",
      " [10. 10. 10. 10.]\n",
      " [10. 10. 10. 10.]]\n",
      "[[-8. -8. -8. -8.]\n",
      " [-8. -8. -8. -8.]\n",
      " [-8. -8. -8. -8.]\n",
      " [-8. -8. -8. -8.]]\n",
      "[[0.11111111 0.11111111 0.11111111 0.11111111]\n",
      " [0.11111111 0.11111111 0.11111111 0.11111111]\n",
      " [0.11111111 0.11111111 0.11111111 0.11111111]\n",
      " [0.11111111 0.11111111 0.11111111 0.11111111]]\n",
      "[[9. 9. 9. 9.]\n",
      " [9. 9. 9. 9.]\n",
      " [9. 9. 9. 9.]\n",
      " [9. 9. 9. 9.]]\n"
     ]
    }
   ],
   "source": [
    "jedinicna = np.ones((4,4))\n",
    "only_nineeee = np.full((4, 4), 9)\n",
    "\n",
    "print(jedinicna + only_nineeee)\n",
    "print(jedinicna - only_nineeee)\n",
    "print(jedinicna / only_nineeee)\n",
    "print(np.multiply(jedinicna, only_nineeee))\n"
   ]
  },
  {
   "cell_type": "markdown",
   "metadata": {},
   "source": [
    "## zadatak 7\n",
    "\n",
    "Stvorite 1D ndarray od 10 elemenata proizvoljnih vrijednosti. Bez korištenja for petlje postavite svaki drugi element u rasponu indeksa [2, 7> na vrijednost 99.\n"
   ]
  },
  {
   "cell_type": "code",
   "execution_count": 14,
   "metadata": {},
   "outputs": [
    {
     "data": {
      "text/plain": [
       "array([0.58192257, 0.57890339, 0.53025259, 0.95654774, 0.34740071,\n",
       "       0.19987479, 0.91921958, 0.58069761, 0.50118725, 0.87868046])"
      ]
     },
     "execution_count": 14,
     "metadata": {},
     "output_type": "execute_result"
    }
   ],
   "source": [
    "rndm = np.random.rand(10)\n",
    "rndm\n",
    "\n",
    "\n"
   ]
  },
  {
   "cell_type": "markdown",
   "metadata": {},
   "source": [
    "## zadatak 8\n",
    "\n",
    "Stvorite 2D ndarray dimenzija 5x6 s elementima proizvoljnih vrijednosti. Bez korištelja for petlje izdvojite svaki drugi stupac u zasebnu varijablu. Također, u zasebnu varijablu izdvojite posljednja 3 retka.\n"
   ]
  },
  {
   "cell_type": "markdown",
   "metadata": {},
   "source": [
    "## 9. Zadatak\n",
    "Stvorite 2D Numpy polje dimenzija 16x16 proizvoljnih vrijednosti. Stvorite novo Numpy polje koje sadrži iste elemente prvog polja, ali u obliku 4x8x8. Koja Numpy funkcija je prigodna kako bi se ovo ostvarilo? Vizualizirajte oblik novog ndarray-a. Dovoljna je skica na papiru ili skica u nekom digitalnom alatu.\n"
   ]
  },
  {
   "cell_type": "markdown",
   "metadata": {},
   "source": [
    "## 10. Zadatak\n",
    "Stvorite 3D Numpy polje dimenzija 3x576x720. Stvorite novo Numpy polje koje sadrži iste elemente prvog polja, ali u obliku 576x720x3. Koja Numpy funkcija je prigodna kako bi se ovo ostvarilo?\n"
   ]
  },
  {
   "cell_type": "markdown",
   "metadata": {},
   "source": [
    "## 11. Zadatak\n",
    "Stvorite 2D Numpy polje dimenzija 2x3. Ukoliko je srednja vrijednost svih elemenata veća od 10 ispišite sumu svih elemenata, u suprotnom ispišite vrijednost najvećeg elementa u polju."
   ]
  }
 ],
 "metadata": {
  "interpreter": {
   "hash": "9d2ef954296ebd7e0bb49b623363ba656564d86ad2773dfb8994626ebb35e882"
  },
  "kernelspec": {
   "display_name": "Python 3.8.2 64-bit",
   "language": "python",
   "name": "python3"
  },
  "language_info": {
   "codemirror_mode": {
    "name": "ipython",
    "version": 3
   },
   "file_extension": ".py",
   "mimetype": "text/x-python",
   "name": "python",
   "nbconvert_exporter": "python",
   "pygments_lexer": "ipython3",
   "version": "3.8.9"
  },
  "orig_nbformat": 4
 },
 "nbformat": 4,
 "nbformat_minor": 2
}
