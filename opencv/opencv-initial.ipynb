{
 "cells": [
  {
   "cell_type": "markdown",
   "metadata": {},
   "source": [
    "# openCV"
   ]
  },
  {
   "cell_type": "markdown",
   "metadata": {},
   "source": [
    "kolorni sustavi - RGB, HSV, YUV\n",
    "\n",
    "RGB - rijetko se koristi"
   ]
  },
  {
   "cell_type": "code",
   "execution_count": 1,
   "metadata": {},
   "outputs": [],
   "source": [
    "import cv2\n",
    "import numpy as np"
   ]
  },
  {
   "cell_type": "markdown",
   "metadata": {},
   "source": [
    "## memory reqs\n",
    "\n",
    "nekompresiran FullHD sat vremena - 670 GB\n",
    "\n",
    "nekompresiran UHD sat vremena - 2.68 TB\n",
    "\n",
    "nekompresiran 8k sat vremena - 10.72 GB\n",
    "\n",
    "ljudi osjetljiviji na deltu luminacije nego deltu boje\n",
    "\n",
    "subsampling boje - za više susjednih piksela uzima se prosjek boje, no svjetlina se uzima za svaki piksel\n",
    "\n",
    "subsamplanje: \n",
    "\n",
    "4:4:4 je izvor - subsample može biti  4:2:2, 4:2:0, 4:1:1, 4:1:0\n",
    "\n",
    "# konvolucije\n",
    "\n",
    "slike s puno rubova i detalja sadrže puno visokih prostornih frekvencija, tj puno promjena.\n",
    "\n",
    "slike s malo detalja i rubova ne sadrže tako puno visokih prostornih frekvencija, tj. promjena. \n",
    "\n",
    "detalji i rubovi predstavljaju visoke prostorne frekvencije u slici\n",
    "\n",
    "za CV su rubovi bitniji jer je to bitno - jer tu su outlines\n",
    "\n",
    "niskopropusne frekvencije se koriste češće (95%) - da se omekšaju rubovi"
   ]
  },
  {
   "cell_type": "markdown",
   "metadata": {},
   "source": [
    "### 8.12."
   ]
  },
  {
   "cell_type": "markdown",
   "metadata": {},
   "source": [
    "## zadatak 1"
   ]
  },
  {
   "cell_type": "code",
   "execution_count": 3,
   "metadata": {},
   "outputs": [],
   "source": [
    "import zipfile\n",
    "\n",
    "with zipfile.ZipFile(\"zadatak1.zip\", 'r') as zip_ref:\n",
    "    zip_ref.extractall(\"zadatak1\")\n"
   ]
  },
  {
   "cell_type": "code",
   "execution_count": 7,
   "metadata": {},
   "outputs": [
    {
     "data": {
      "text/plain": [
       "(1589, 1200)"
      ]
     },
     "execution_count": 7,
     "metadata": {},
     "output_type": "execute_result"
    }
   ],
   "source": [
    "from PIL import Image\n",
    "im = Image.open(\"zadatak1/vehicle.jpg\")\n",
    "im.size\n"
   ]
  },
  {
   "cell_type": "code",
   "execution_count": 19,
   "metadata": {},
   "outputs": [],
   "source": [
    "rotated = im.rotate(270)\n",
    "rotated.save(\"zadatak1/vehicle_rotated.jpg\")\n"
   ]
  },
  {
   "cell_type": "markdown",
   "metadata": {},
   "source": [
    "## zadatak 1 modified"
   ]
  },
  {
   "cell_type": "code",
   "execution_count": 18,
   "metadata": {},
   "outputs": [
    {
     "data": {
      "text/plain": [
       "(900, 1200)"
      ]
     },
     "execution_count": 18,
     "metadata": {},
     "output_type": "execute_result"
    }
   ],
   "source": [
    "cropped_image = rotated.crop((300, 0, 1200, 1200))\n",
    "cropped_image.save(\"zadatak1/sample_cropped.jpg\")\n",
    "cropped_image.size\n"
   ]
  },
  {
   "cell_type": "code",
   "execution_count": 23,
   "metadata": {},
   "outputs": [],
   "source": [
    "big_img = Image.new('RGB', (2489, 1200))\n",
    "\n",
    "big_img.paste(im, (0, 0))\n",
    "big_img.paste(cropped_image, (1589, 0))\n",
    "\n",
    "big_img.save(\"zadatak1/big_image.jpg\")"
   ]
  },
  {
   "cell_type": "markdown",
   "metadata": {},
   "source": [
    "## 9.12."
   ]
  },
  {
   "cell_type": "markdown",
   "metadata": {},
   "source": [
    "intersetion over union - 0.5 i više je zadovoljavajuće. 0 je promašaj, 1 je savršeno zadovoljavajuće\n",
    "\n"
   ]
  },
  {
   "cell_type": "markdown",
   "metadata": {},
   "source": []
  }
 ],
 "metadata": {
  "interpreter": {
   "hash": "9d2ef954296ebd7e0bb49b623363ba656564d86ad2773dfb8994626ebb35e882"
  },
  "kernelspec": {
   "display_name": "Python 3.8.2 64-bit",
   "language": "python",
   "name": "python3"
  },
  "language_info": {
   "codemirror_mode": {
    "name": "ipython",
    "version": 3
   },
   "file_extension": ".py",
   "mimetype": "text/x-python",
   "name": "python",
   "nbconvert_exporter": "python",
   "pygments_lexer": "ipython3",
   "version": "3.8.9"
  },
  "orig_nbformat": 4
 },
 "nbformat": 4,
 "nbformat_minor": 2
}
