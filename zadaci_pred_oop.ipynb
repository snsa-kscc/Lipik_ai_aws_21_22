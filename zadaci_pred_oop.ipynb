{
 "cells": [
  {
   "cell_type": "markdown",
   "metadata": {},
   "source": [
    "## zadatak 1\n",
    "\n",
    "Napiši program koji učitava listu i briše sve duplikate iz te liste te ispisuje novu listu s \n",
    "obrisanim duplikatima."
   ]
  },
  {
   "cell_type": "code",
   "execution_count": 1,
   "metadata": {},
   "outputs": [
    {
     "data": {
      "text/plain": [
       "[1729, 2, 34, 4, 5, 6, 7, 8, 69, 42, 420, 89]"
      ]
     },
     "execution_count": 1,
     "metadata": {},
     "output_type": "execute_result"
    }
   ],
   "source": [
    "li = [2,34,5,5,5,2,2,4,89,4,4,2,5,7,8,4,5,6,69,42,420,1729]\n",
    "\n",
    "def remove_duplicates(e):\n",
    "\treturn list(set(e))\n",
    "\n",
    "remove_duplicates(li)"
   ]
  },
  {
   "cell_type": "markdown",
   "metadata": {},
   "source": [
    "## zadatak 2\n",
    "\n",
    "Napravi obrtaljku od unesenog stringa te na svakom drugom mjestu pridruzi nasumičan broj."
   ]
  },
  {
   "cell_type": "code",
   "execution_count": 2,
   "metadata": {},
   "outputs": [
    {
     "name": "stdout",
     "output_type": "stream",
     "text": [
      "g 100\n",
      "i 35\n",
      "t 93\n",
      "  45\n",
      "n 99\n",
      "l 64\n",
      "v 75\n",
      "i 67\n",
      "r 44\n",
      "  72\n",
      "a 33\n",
      "a 76\n",
      "e 60\n"
     ]
    }
   ],
   "source": [
    "import random\n",
    "\n",
    "string = \"nekakav proizvoljni string\"\n",
    "string_reversed = string[::-1]\n",
    "\n",
    "for i in string_reversed[::2]:\n",
    "\tprint(f\"{i} {str(random.randint(0,100))}\")"
   ]
  },
  {
   "cell_type": "markdown",
   "metadata": {},
   "source": [
    "## zadatak 3\n",
    "\n",
    "Napiši program koji upisuje bodove n plesnih natjecanja. Ispiši zbroj svih bodova tako da odbaciš \n",
    "najbolji i najlošiji rezultat."
   ]
  },
  {
   "cell_type": "code",
   "execution_count": 3,
   "metadata": {},
   "outputs": [
    {
     "name": "stdout",
     "output_type": "stream",
     "text": [
      "21\n"
     ]
    }
   ],
   "source": [
    "awarded_points = [2,3,7,8,6,3,1]\n",
    "\n",
    "awarded_points.sort()\n",
    "\n",
    "sum_pts = 0\n",
    "for i in awarded_points[1:-1]:\n",
    "\tsum_pts += i\n",
    "\n",
    "print(sum_pts)"
   ]
  },
  {
   "cell_type": "markdown",
   "metadata": {},
   "source": [
    "## zadatak 4\n",
    "\n",
    "Kreiraj listu brojeva i pretvori svaki element u listi u njegov kvadrat"
   ]
  },
  {
   "cell_type": "code",
   "execution_count": 4,
   "metadata": {},
   "outputs": [
    {
     "data": {
      "text/plain": [
       "[4, 9, 49, 64, 36, 9, 1]"
      ]
     },
     "execution_count": 4,
     "metadata": {},
     "output_type": "execute_result"
    }
   ],
   "source": [
    "rand_nums = [2,3,7,8,6,3,1]\n",
    "\n",
    "def get_square(e):\n",
    "\treturn [i**2 for i in e]\n",
    "\n",
    "get_square(rand_nums)"
   ]
  },
  {
   "cell_type": "markdown",
   "metadata": {},
   "source": [
    "## zadatak 5\n",
    "\n",
    "Kreiraj listu koja se sastoji od stringova i brojeva, te odvoji brojeve i stringove u zasebne liste"
   ]
  },
  {
   "cell_type": "code",
   "execution_count": 5,
   "metadata": {},
   "outputs": [
    {
     "name": "stdout",
     "output_type": "stream",
     "text": [
      "[69, 1729, 420]\n",
      "['Python', 'C++', 'JavaScript', 'nesto']\n"
     ]
    }
   ],
   "source": [
    "str_and_num_li = ['Python', 69, 'C++', 1729, 'JavaScript', 420, 'nesto']\n",
    "\n",
    "def get_ints(e):\n",
    "\treturn [i for i in e if isinstance(i, int)]\n",
    "\n",
    "def get_strs(e):\n",
    "\treturn [i for i in e if isinstance(i, str)]\n",
    "\n",
    "print(get_ints(str_and_num_li))\n",
    "print(get_strs(str_and_num_li))"
   ]
  },
  {
   "cell_type": "markdown",
   "metadata": {},
   "source": [
    "## zadatak 6\n",
    "\n",
    "S tipkovnice učitavajte cijele brojeve. Prvi upisani broj može biti bilo \n",
    "koji cijeli broj. Učitavanje ponavljati dok god je upisani broj strogo \n",
    "veći od prethodno upisanog broja. Ispisati sumu svih učitanih brojeva \n",
    "osim broja zbog kojeg je prekinuto učitavanje."
   ]
  },
  {
   "cell_type": "code",
   "execution_count": 6,
   "metadata": {},
   "outputs": [
    {
     "data": {
      "text/plain": [
       "(99, [22, 33, 44, 1])"
      ]
     },
     "execution_count": 6,
     "metadata": {},
     "output_type": "execute_result"
    }
   ],
   "source": [
    "user_list = []\n",
    "\n",
    "def user_input():\n",
    "\twhile True:\n",
    "\t\tinp = int(input(\"Enter a word: \"))\n",
    "\t\tuser_list.append(inp)\n",
    "\t\tif user_list[len(user_list) - 1] < user_list[len(user_list) - 2]:\n",
    "\t\t\tbreak\n",
    "\ttotal = 0\n",
    "\tfor i in range(len(user_list) - 1):\n",
    "\t\ttotal += user_list[i]\n",
    "\treturn total, user_list\n",
    "\n",
    "user_input()"
   ]
  },
  {
   "cell_type": "markdown",
   "metadata": {},
   "source": [
    "## zadatak 7\n",
    "\n",
    "Učitajte s tipkovnice 2 niza znakova, svaki od tih nizova znakova \n",
    "spremite u zasebnu varijablu. Ispišite indekse na kojima se pojavljuju \n",
    "ista slova neovisno o veličini ('a' i 'A' tretirati jednako)."
   ]
  },
  {
   "cell_type": "code",
   "execution_count": 7,
   "metadata": {},
   "outputs": [
    {
     "name": "stdout",
     "output_type": "stream",
     "text": [
      "2\n"
     ]
    }
   ],
   "source": [
    "first_srt = \"tjhreWEt\"\n",
    "second_str = \"dfHJflhdsj\"\n",
    "\n",
    "for i, (first_idx, second_idx) in enumerate(zip(first_srt, second_str)):\n",
    "\tif first_idx.lower() == second_idx.lower():\n",
    "\t\tprint(i)"
   ]
  },
  {
   "cell_type": "markdown",
   "metadata": {},
   "source": [
    "## zadatak 8\n",
    "\n",
    "Napišite program koji s tipkovnice učitava proizvoljni cijeli \n",
    "troznamenkasti broj. Ako učitani broj nije troznamenkasti, ispišite \n",
    "poruku o greški i prekinite daljnje izvođenje programa. U slučaju da \n",
    "je učitani broj ispravan, ispišite prvi sljedeći troznamenkasti \n",
    "palindrom. Na primjer, ako je učitani broj 120, prvi sljedeći palindrom \n",
    "je 121."
   ]
  },
  {
   "cell_type": "code",
   "execution_count": 8,
   "metadata": {},
   "outputs": [
    {
     "data": {
      "text/plain": [
       "404"
      ]
     },
     "execution_count": 8,
     "metadata": {},
     "output_type": "execute_result"
    }
   ],
   "source": [
    "def is_palindrome(num):\n",
    "\treturn str(num) == str(num)[::-1]\n",
    "\n",
    "def closest_palindrome(num):\n",
    "\tif len(str(num)) == 3:\n",
    "\t\tnext_palindrome = num + 1\n",
    "\t\twhile not is_palindrome(next_palindrome):\n",
    "\t\t\tnext_palindrome += 1\n",
    "\t\treturn next_palindrome\n",
    "\telse:\n",
    "\t\tprint(f\"{num} is invalid number for given condition!\")\n",
    "\n",
    "closest_palindrome(int(input(\"Enter a 3 digit number: \")))"
   ]
  },
  {
   "cell_type": "markdown",
   "metadata": {},
   "source": [
    "## zadatak 9\n",
    "\n",
    "Napišite program koji učitava cijele brojeve sve dok je unesena \n",
    "vrijednost veća od 0. Pronađite koji od učitanih brojeva ima najmanju \n",
    "sumu znamenki te ispišite taj broj i sumu."
   ]
  },
  {
   "cell_type": "code",
   "execution_count": 9,
   "metadata": {},
   "outputs": [
    {
     "name": "stdout",
     "output_type": "stream",
     "text": [
      "25\n",
      "7\n"
     ]
    }
   ],
   "source": [
    "def get_digit_sum(e):\n",
    "\tsum = 0\n",
    "\tfor digit in str(e): \n",
    "\t\tsum += int(digit)\n",
    "\treturn sum\n",
    "\n",
    "def list_sum():\n",
    "\tsum_list = []\n",
    "\tfor i in li:\n",
    "\t\tsum_list.append(get_digit_sum(i))\n",
    "\treturn sum_list\n",
    "\n",
    "li = []\n",
    "while True:\n",
    "\tinp = int(input(\"Enter a number bigger than 0: \"))\n",
    "\tif inp < 0:\n",
    "\t\tbreak\n",
    "\telse:\n",
    "\t\tli.append(inp)\n",
    "\n",
    "print(min(li))\n",
    "print(min(list_sum()))"
   ]
  },
  {
   "cell_type": "markdown",
   "metadata": {},
   "source": [
    "## zadatak 10\n",
    "\n",
    "S tipkovnice učitajte proizvoljni niz znakova. Kreirajte novi niz \n",
    "znakova koji će sadržavati naizmjence velika i mala slova iz ulaznog \n",
    "niza, redom kako se pojavljuju u ulaznom nizu: prvo veliko slovo u \n",
    "ulaznom nizu, prvo sljedeće malo slovo u nastavku ulaznog niza, \n",
    "prvo sljedeće veliko slovo u nastavku ulaznog niza itd. Novokreirani \n",
    "niz ispišite na zaslon. U nastavku se nalazi primjer:\n",
    "\n",
    "Ulazni niz: ifeFemFEkej83FkW\n",
    "Izlazni niz: FeFkFkW"
   ]
  },
  {
   "cell_type": "code",
   "execution_count": 10,
   "metadata": {},
   "outputs": [
    {
     "name": "stdout",
     "output_type": "stream",
     "text": [
      "FeFkFkW\n"
     ]
    }
   ],
   "source": [
    "input_string = \"ifeFemFEkej83FkW\"\n",
    "output_string = \"\"\n",
    "\n",
    "upper_case = True\n",
    "\n",
    "for i in input_string:\n",
    "\tif \"A\" < i < \"Z\" and upper_case:\n",
    "\t\toutput_string += i\n",
    "\t\tupper_case = False\n",
    "\telif \"a\" < i < \"z\" and not upper_case:\n",
    "\t\toutput_string += i\n",
    "\t\tupper_case = True\n",
    "\n",
    "print(output_string)"
   ]
  },
  {
   "cell_type": "markdown",
   "metadata": {},
   "source": [
    "## zadatak 11\n",
    "\n",
    "Napišite program koji s tipkovnice učitava cijeli broj n iz intervala [3, \n",
    "20]. U slučaju da je unesena vrijednost neispravna, ispisati prikladnu \n",
    "poruku na ekran te zatražiti ponovni unos cijelog broja. Nakon \n",
    "učitane vrijednosti n, učitajte n parova cijelih brojeva. Nakon što je n\n",
    "parova brojeva učitano, ispišite parove brojeva koji imaju najveću \n",
    "sumu."
   ]
  },
  {
   "cell_type": "markdown",
   "metadata": {},
   "source": [
    "## zadatak 12\n",
    "\n",
    "Napišite program koji s tipkovnice učitava proizvoljni niz znakova. \n",
    "Nad učitanim nizom znakova napravite analizu je li taj niz palindrom \n",
    "ili nije. Niz je palindrom ako se isto čita slijeva nadesno ili pak \n",
    "zdesna nalijevo."
   ]
  },
  {
   "cell_type": "code",
   "execution_count": 11,
   "metadata": {},
   "outputs": [
    {
     "data": {
      "text/plain": [
       "False"
      ]
     },
     "execution_count": 11,
     "metadata": {},
     "output_type": "execute_result"
    }
   ],
   "source": [
    "inp = input(\"Enter something: \")\n",
    "\n",
    "def is_palindrome(e):\n",
    "\treturn e == e[::-1]\n",
    "\n",
    "is_palindrome(inp)"
   ]
  },
  {
   "cell_type": "markdown",
   "metadata": {},
   "source": [
    "## zadatak 13\n",
    "\n",
    "Napišite program koji će inicijalizirati varijablu n na proizvoljnu \n",
    "cjelobrojnu vrijednost. Vrijednost varijable n neka predstavlja red \n",
    "tablice. Ispisati tablicu veličine n redaka i n stupaca. Vrijednost 1 \n",
    "neka se nalazi na glavnoj dijagonali, a vrijednost 0 na svim ostalim \n",
    "mjestima. U nastavku slijedi primjer za n=5:\n",
    "\n",
    "```\n",
    "1 0 0 0 0\n",
    "0 1 0 0 0\n",
    "0 0 1 0 0\n",
    "0 0 0 1 0\n",
    "0 0 0 0 1\n",
    "```\n",
    "\n",
    "Napomena: za ispis vrijednost, tako da se nakon ispisa vrijednosti \n",
    "dane print() funkciji ne ispiše novi redak koristiti sljedeću \n",
    "sintaksu: print(vrijednost, end='')\n"
   ]
  },
  {
   "cell_type": "code",
   "execution_count": 12,
   "metadata": {},
   "outputs": [
    {
     "name": "stdout",
     "output_type": "stream",
     "text": [
      "1 0 0 0 0 \n",
      "0 1 0 0 0 \n",
      "0 0 1 0 0 \n",
      "0 0 0 1 0 \n",
      "0 0 0 0 1 \n"
     ]
    }
   ],
   "source": [
    "def draw_board(n):\n",
    "\tfor i in range(n):\n",
    "\t\tfor j in range(n):\n",
    "\t\t\tif i == j:\n",
    "\t\t\t\tprint(\"1\", end = \" \")\n",
    "\t\t\telse:\n",
    "\t\t\t\tprint(\"0\", end = \" \")\n",
    "\t\tprint()\n",
    "\n",
    "draw_board(5)"
   ]
  },
  {
   "cell_type": "markdown",
   "metadata": {},
   "source": [
    "## zadatak 14\n",
    "\n",
    "Odaberite proizvoljno koordinatu T=(x,y), vrijednosti varijabli x\n",
    "(stupac) i y (redak) neka budu manje od 10. Program neka ispiše \n",
    "polje 10x10 čiji su svi elementi vrijednosti \"-\" osim koordinate T čija \n",
    "je vrijednost \"X\". \n",
    "\n",
    "```\n",
    "\n",
    "Primjer: T=(1,1)\n",
    "- - - - - - - - - -\n",
    "- X - - - - - - - -\n",
    "- - - - - - - - - -\n",
    "- - - - - - - - - -\n",
    "- - - - - - - - - -\n",
    "- - - - - - - - - -\n",
    "- - - - - - - - - -\n",
    "- - - - - - - - - -\n",
    "- - - - - - - - - -\n",
    "- - - - - - - - - -\n",
    "```"
   ]
  },
  {
   "cell_type": "code",
   "execution_count": 13,
   "metadata": {},
   "outputs": [
    {
     "name": "stdout",
     "output_type": "stream",
     "text": [
      "- - - - - - - - - - \n",
      "- - - - - - - - - - \n",
      "- - - - - - - - - - \n",
      "- - - - - - - - - - \n",
      "- - - - - - - - - - \n",
      "- - - - - x - - - - \n",
      "- - - - - - - - - - \n",
      "- - - - - - - - - - \n",
      "- - - - - - - - - - \n",
      "- - - - - - - - - - \n"
     ]
    }
   ],
   "source": [
    "def print_coordinates(x, y):\n",
    "\tfor i in range(10):\n",
    "\t\tfor j in range(10):\n",
    "\t\t\tif i == x and j == y:\n",
    "\t\t\t\tprint(\"x\", end = \" \")\n",
    "\t\t\telse:\n",
    "\t\t\t\tprint(\"-\", end = \" \")\n",
    "\t\tprint()\n",
    "\n",
    "print_coordinates(5, 5)"
   ]
  },
  {
   "cell_type": "markdown",
   "metadata": {},
   "source": [
    "## zadatak 15\n",
    "\n",
    "Napišite program koji ispisuje koliko ima prostih brojeva između \n",
    "dva proizvoljna broja (prost broj je broj koji je djeljiv samo sa 1 i sa samim sobom)."
   ]
  },
  {
   "cell_type": "code",
   "execution_count": 14,
   "metadata": {},
   "outputs": [
    {
     "data": {
      "text/plain": [
       "[2, 3, 5, 7, 11, 13, 17, 19, 23, 29, 31, 37, 41, 43, 47]"
      ]
     },
     "execution_count": 14,
     "metadata": {},
     "output_type": "execute_result"
    }
   ],
   "source": [
    "def is_prime(x):\n",
    "\tif x < 2:\n",
    "\t\treturn False\n",
    "\tfor i in range(2, x):\n",
    "\t\tif x % i == 0:\n",
    "\t\t\treturn False\n",
    "\treturn True\n",
    "\n",
    "def prime_nums(min, max):\n",
    "\treturn [i for i in range(min, max + 1) if is_prime(i)]\n",
    "\n",
    "prime_nums(2, 50)"
   ]
  },
  {
   "cell_type": "markdown",
   "metadata": {},
   "source": [
    "## zadatak 16\n",
    "\n",
    "Napišite program koji sadrži varijablu u kojoj je upisan proizvoljni \n",
    "niz znakova i brojčanu varijablu n. Provjerite je li vrijednost varijable \n",
    "n manja od broja znakova u nizu. Ako je vrijednost varijable n veća \n",
    "ispišite informaciju o grešci. Ispišite iz niza znakova svako n-to \n",
    "slovo. Na primjer, ulazni niz je \"ABCDEFGH\", n je 2, tada je izlaz \n",
    "\"ACEG\"."
   ]
  },
  {
   "cell_type": "code",
   "execution_count": 15,
   "metadata": {},
   "outputs": [
    {
     "name": "stdout",
     "output_type": "stream",
     "text": [
      "['A', 'C', 'E', 'G']\n"
     ]
    }
   ],
   "source": [
    "n = 2\n",
    "string = \"ABCDEFGH\"\n",
    "\n",
    "def string_checker(string, n):\n",
    "\tli = []\n",
    "\tif n > len(string):\n",
    "\t\tprint(\"Error. N is bigger than string.\")\n",
    "\telse:\n",
    "\t\tfor i, j in enumerate(string):\n",
    "\t\t\tif i % n == 0:\n",
    "\t\t\t\tli.append(j)\n",
    "\treturn li\n",
    "\n",
    "print(string_checker(string, n))"
   ]
  },
  {
   "cell_type": "markdown",
   "metadata": {},
   "source": [
    "## zadatak 17\n",
    "\n",
    "Napišite program koji sadrži varijablu u kojoj je upisan proizvoljni niz \n",
    "znakova. Ispišite koliko velikih slova se nalazi u nizu. Ako je neko od \n",
    "unesenih slova u nizu \"A\", brojanje velikih slova je potrebno prekinuti \n",
    "i ispisati informaciju da je veliko slovo \"A\" pronađeno.\n"
   ]
  },
  {
   "cell_type": "code",
   "execution_count": 16,
   "metadata": {},
   "outputs": [
    {
     "name": "stdout",
     "output_type": "stream",
     "text": [
      "Letter A found.\n",
      "3\n"
     ]
    }
   ],
   "source": [
    "string = \"fhVfGtDsdAfjQWongS\"\n",
    "counter = 0\n",
    "\n",
    "for i in string:\n",
    "\tif i == 'A':\n",
    "\t\tprint(\"Letter A found.\")\n",
    "\t\tbreak\n",
    "\tif i.isupper():\n",
    "\t\tcounter += 1\n",
    "\n",
    "print(counter)"
   ]
  },
  {
   "cell_type": "markdown",
   "metadata": {},
   "source": [
    "## zadatak 18\n",
    "\n",
    "Ispišite sve parne brojeve između 1 i 1000 koju su istovremeno \n",
    "djeljivi i s 5 i s 13."
   ]
  },
  {
   "cell_type": "code",
   "execution_count": 17,
   "metadata": {},
   "outputs": [
    {
     "name": "stdout",
     "output_type": "stream",
     "text": [
      "130\n",
      "260\n",
      "390\n",
      "520\n",
      "650\n",
      "780\n",
      "910\n"
     ]
    }
   ],
   "source": [
    "def divisable_nums():\n",
    "\tli = [i for i in range(1, 1001) if i % 5 == 0 and i % 13 == 0]\n",
    "\tfor j in li:\n",
    "\t\tif j % 2 == 0:\n",
    "\t\t\tprint(j)\n",
    "\n",
    "divisable_nums()"
   ]
  },
  {
   "cell_type": "markdown",
   "metadata": {},
   "source": [
    "## zadatak 19\n",
    "\n",
    "Napisi program koji unosi n brojeva i od znamenke desetice svakog broja stvara novi broj."
   ]
  },
  {
   "cell_type": "code",
   "execution_count": 18,
   "metadata": {},
   "outputs": [
    {
     "name": "stdout",
     "output_type": "stream",
     "text": [
      "234\n"
     ]
    }
   ],
   "source": [
    "generated_number = \"\"\n",
    "\n",
    "while True:\n",
    "\tinp = input(\"enter number, 0 to quit: \")\n",
    "\tif inp == \"0\":\n",
    "\t\tbreak\n",
    "\tsecond_digit = inp[-2] if len(inp) >= 2 else 0\n",
    "\tgenerated_number += second_digit\n",
    "\n",
    "print(generated_number)"
   ]
  },
  {
   "cell_type": "markdown",
   "metadata": {},
   "source": [
    "## zadatak 20\n",
    "\n",
    "Napisi program koji unosi n brojeva i sastavlja novi broj od najvece znamenke u svakom od\n",
    "brojeva"
   ]
  },
  {
   "cell_type": "code",
   "execution_count": 19,
   "metadata": {},
   "outputs": [
    {
     "name": "stdout",
     "output_type": "stream",
     "text": [
      "345\n"
     ]
    }
   ],
   "source": [
    "generated_number = \"\"\n",
    "\n",
    "while True:\n",
    "\tinp = input(\"enter number, 0 to quit: \")\n",
    "\tif inp == \"0\":\n",
    "\t\tbreak\n",
    "\tbiggest_digit = max(inp)\n",
    "\tgenerated_number += biggest_digit\n",
    "\n",
    "print(generated_number)"
   ]
  },
  {
   "cell_type": "markdown",
   "metadata": {},
   "source": [
    "## zadatak 21\n",
    "\n",
    "Ispišite sljedeće primjere koristeći funkcije i petlju. funkcija mora primati varijabilan broj redaka koji ispisuje (npr. pod a), unesen broj je 7, jer ima 7 redaka. pod b) je unesen broj 5, jer ima 5 redaka)\n",
    "\n",
    "```\n",
    "a)\n",
    "\n",
    "*\n",
    "**\n",
    "***\n",
    "****\n",
    "***\n",
    "**\n",
    "*\n",
    "\n",
    "b)\n",
    "\n",
    "  *  \n",
    " *** \n",
    "*****\n",
    " *** \n",
    "  * \n",
    "c)\n",
    "1010101\n",
    " 10101 \n",
    "  101  \n",
    "   1  \n",
    "d) \n",
    "x x x x\n",
    "x x x\n",
    "x x\n",
    "x\n",
    "x x\n",
    "x x x\n",
    "x x x x\n",
    "```"
   ]
  },
  {
   "cell_type": "code",
   "execution_count": 20,
   "metadata": {},
   "outputs": [
    {
     "name": "stdout",
     "output_type": "stream",
     "text": [
      "\n",
      "*\n",
      "**\n",
      "***\n",
      "****\n",
      "***\n",
      "**\n",
      "*\n",
      "  *\n",
      " ***\n",
      "*****\n",
      " ***\n",
      "  *\n",
      " 1010101\n",
      "  10101\n",
      "   101\n",
      "    1\n",
      "x x x x \n",
      "x x x \n",
      "x x \n",
      "x \n",
      "x \n",
      "x x \n",
      "x x x \n",
      "x x x x \n"
     ]
    }
   ],
   "source": [
    "def draw_pattern_a(n):\n",
    "\tfor i in range (0,n):\n",
    "\t\tfor j in range (i):\n",
    "\t\t\tprint(\"*\", end=\"\")\n",
    "\t\tprint()\n",
    "\n",
    "\tfor i in range (n,0,-1):\n",
    "\t\tfor j in range (i):\n",
    "\t\t\tprint(\"*\", end=\"\")\n",
    "\t\tprint()\n",
    "\n",
    "def draw_pattern_b(n):\n",
    "\tfor i in range(1, (n+1)//2 + 1):\n",
    "\t\tfor j in range((n+1)//2 - i):\n",
    "\t\t\tprint(\" \", end = \"\")\n",
    "\t\tfor k in range((i*2)-1):\n",
    "\t\t\tprint(\"*\", end = \"\")\n",
    "\t\tprint()\n",
    "\n",
    "\tfor i in range((n+1)//2 + 1, n + 1): \n",
    "\t\tfor j in range(i - (n+1)//2):\n",
    "\t\t\tprint(\" \", end = \"\")\n",
    "\t\tfor k in range((n+1 - i)*2 - 1):\n",
    "\t\t\tprint(\"*\", end = \"\")\n",
    "\t\tprint()\n",
    "\n",
    "def draw_pattern_c(n):\n",
    "\tfor i in range((n+1)//2 + 1, n + 1): \n",
    "\t\tfor j in range(i - (n+1)//2):\n",
    "\t\t\tprint(\" \", end = \"\")\n",
    "\t\tfor k in range((n+1 - i)*2 - 1):\n",
    "\t\t\tif k % 2 == 0:\n",
    "\t\t\t\tprint(\"1\", end = \"\")\n",
    "\t\t\telse:\n",
    "\t\t\t\tprint(\"0\", end = \"\")\n",
    "\t\tprint()\n",
    "\n",
    "def draw_pattern_d(n):\n",
    "\tif n%2 == 0:\n",
    "\t\tfor i in range(n//2, 0, -1):\n",
    "\t\t\tprint('x ' * i)\n",
    "\t\tfor i in range(1, n//2 + 1):\n",
    "\t\t\tprint('x ' * i)\n",
    "\n",
    "draw_pattern_a(4)\n",
    "draw_pattern_b(5)\n",
    "draw_pattern_c(8)\n",
    "draw_pattern_d(8)"
   ]
  },
  {
   "cell_type": "markdown",
   "metadata": {},
   "source": [
    "## zadatak 22\n",
    "\n",
    "Napišite program za koji traži najveći zajednički djelitelj dvaju brojeva"
   ]
  },
  {
   "cell_type": "code",
   "execution_count": 21,
   "metadata": {},
   "outputs": [
    {
     "data": {
      "text/plain": [
       "6"
      ]
     },
     "execution_count": 21,
     "metadata": {},
     "output_type": "execute_result"
    }
   ],
   "source": [
    "def gcd(a, b):\n",
    "\twhile b:\n",
    "\t\ta, b = b, a % b\n",
    "\treturn a\n",
    "\n",
    "gcd(12, 18)"
   ]
  },
  {
   "cell_type": "markdown",
   "metadata": {},
   "source": [
    "## zadatak 23\n",
    "\n",
    "koristenjem funkcija i naucenog, napisi program koji racuna iznos racuna u ovisnosti o transakcijama. dnevnik transakcija prikazi ovako (D: 100, W: 200), dok ukupan iznos na racunu prikazuje sa (T: 1000). ako korisnik unese T = 1000 te povuce iznos od 350 (W: 350), aplikacija treba ispisati azurirano stanje T: 650. ako nakon toga korisnik uplati iznos na racun, npr. 200 (D: 200), program treba uvecati iznos racuna i azurirati ga (T: 850). unosom stringa \"quit\", program prekida se izvodjenje programa."
   ]
  },
  {
   "cell_type": "code",
   "execution_count": 22,
   "metadata": {},
   "outputs": [
    {
     "name": "stdout",
     "output_type": "stream",
     "text": [
      "Total: 1000\n",
      "Total: 800\n"
     ]
    }
   ],
   "source": [
    "total = 0\n",
    "\n",
    "def withdraw(total, w_amount):\n",
    "\ttotal -= w_amount\n",
    "\treturn total\n",
    "\n",
    "def deposit(total, d_amount):\n",
    "\ttotal += d_amount \n",
    "\treturn total\n",
    "\n",
    "while True:\n",
    "\tinp = input(\"d for deposit, w for withdrawal, q to quit: \")\n",
    "\n",
    "\tif inp == \"w\":\n",
    "\t\tw_amount = int(input(\"Enter withdrawal amount: \"))\n",
    "\t\ttotal = withdraw(total, w_amount)\n",
    "\t\tprint(f\"Total: {total}\")\n",
    "\n",
    "\telif inp == \"d\":\n",
    "\t\td_amount = int(input(\"Enter deposit amount: \"))\n",
    "\t\ttotal = deposit(total, d_amount)\n",
    "\t\tprint(f\"Total: {total}\")\n",
    "\n",
    "\telif inp == \"q\":\n",
    "\t\tbreak"
   ]
  },
  {
   "cell_type": "markdown",
   "metadata": {},
   "source": [
    "## zadatak 24\n",
    "\n",
    "zadan je rjecnik:\n",
    "```\n",
    "automobil = {\n",
    "    'kilometri' : 230000,\n",
    "    'oprema' : ['zimske gume', 'zracni jastuk', 'protuprovalni bacac plamena'],\n",
    "}\n",
    "```\n",
    "1. kilometre preuredite tako da dodatno broji i kilometre do servisa. postavite vrijednost na 300.\n",
    "2. iz opreme, promijenite \"zimske gume\" u \"ljetne gume\" te \"zracni jastuk\" u \"zracni balon\"\n",
    "3. dodajte polje za unos specifikacije koja sadrzi godinu proizvodnje (1976.), potrosnju (15 litara) i max. brzinu (178 km/h)\n",
    "4. dodajte cijenu i postavite je na 45000\n",
    "5. dodajte osiguranje (npr. croatia) te postavite vrijednost na True\n",
    "6. kada se pozove funkcija 'servis', znaci da se automobil servisirao i promijenile su se sljedece vrijednosti:\n",
    "\n",
    "- kilometri do servisa su se postavili na 2000\n",
    "- zracni balon postao je 'novi zracni jastuk'\n",
    "- ljetne gume promijenjene su na 'cjelogodisnje gume'\n",
    "- cijenu uvecajte za 2000"
   ]
  },
  {
   "cell_type": "code",
   "execution_count": 23,
   "metadata": {},
   "outputs": [],
   "source": [
    "automobil = {\n",
    "\t'kilometri' : 230000,\n",
    "\t'oprema' : ['zimske gume', 'zracni jastuk', 'protuprovalni bacac plamena'],\n",
    "}\n",
    "\n",
    "automobil['kilometri'] = {'kilometri': automobil['kilometri'], 'kilometri do servisa': 300}\n",
    "\n",
    "automobil[\"oprema\"][0] = \"ljetne gume\"\n",
    "automobil[\"oprema\"][1] = \"zracni balon\"\n",
    "\n",
    "automobil[\"specifikacija\"] = [1976, 15, 178]\n",
    "\n",
    "automobil[\"cijena\"] = 45000\n",
    "\n",
    "automobil['osiguranje'] = {'croatia': True}\n",
    "\n",
    "def servis():\n",
    "\tautomobil['kilometri']['kilometri do servisa'] = 2000\n",
    "\tautomobil['oprema'][0] = 'cjelogodisnje gume'\n",
    "\tautomobil['oprema'][1] = 'novi zracni jastuk'\n",
    "\tautomobil['cijena'] += 2000\n",
    "\n",
    "servis()"
   ]
  },
  {
   "cell_type": "markdown",
   "metadata": {},
   "source": [
    "## zadatak 25\n",
    "\n",
    "napisite funkciju koja prima string oblika \"\\<predmet\\>, \\<cijena\\>, \\<kolicina\\>\" (npr. \"kruh, 7.5, 5\"), koji bi simulirao policu neke trgovine. program treba razdvojiti navedeni string te zasebne elemente spremiti u rjecnik. rjecnik se treba spremiti u listu proizvoda. simuliraj kupovinu: kada kupac kupi proizvod (ili broj proizvoda), njegova kolicina se treba umanjiti za iznos. ukoliko je kolicina 0, predmet se treba ukloniti sa police."
   ]
  },
  {
   "cell_type": "code",
   "execution_count": 17,
   "metadata": {},
   "outputs": [],
   "source": [
    "items = []\n",
    "\n",
    "def make_items(inp):\n",
    "\tsplit_inp = inp.split(', ') \n",
    "\titem = {}\n",
    "\titem['predmet'] = split_inp[0]\n",
    "\titem['cijena'] = float(split_inp[1])\n",
    "\titem['kolicina'] = int(split_inp[2])\n",
    "\titems.append(item)\n",
    "\treturn items\n",
    "\n",
    "def sale(item, quantity):\n",
    "\tfor i in items:\n",
    "\t\tif i['predmet'] == item:\n",
    "\t\t\ti['kolicina'] -= quantity\n",
    "\t\t\treturn i['kolicina']\n",
    "\n",
    "\n",
    "while True:\n",
    "\tinp = input(\"b to buy, e to enter, 0 to quit: \")\n",
    "\tif inp == \"b\":\n",
    "\t\titem = input(\"Enter item: \")\n",
    "\t\tquantity = int(input(\"Enter quantity: \"))\n",
    "\t\tsale(item, quantity)\n",
    "\telif inp == \"e\":\n",
    "\t\tmake_items(input(\"Enter item, price and quantity delimited by comma: \"))\n",
    "\telif inp == \"0\":\n",
    "\t\tbreak\n",
    "\tfor i in items:\n",
    "\t\tif i['kolicina'] == 0:\n",
    "\t\t\titems.remove(i)\n"
   ]
  },
  {
   "cell_type": "markdown",
   "metadata": {},
   "source": [
    "## zadatak 26\n",
    "\n",
    "vas omiljeni carobni aparat za kavu je podivljao. aparat treba ispitivati korisnika za kavu sve dok on ne unese \"Q\" ili 0. aparat prihvaca samo kovanice od 2kn ili 5kn. kada korisnik ubaci kovanicu od 5kn, aparat nausmicno izbacuje dvije kave. kada korisnik ubaci kovanicu od 2kn, aparat nasumicno izbaci jednu kavu. ako aparat sakupi 20kn, on se magicno napuni za 3 (nasumicne) kave. neka set sljedeceg oblika simbolizira pocetnu kolicinu kave u aparatu: dict_kava = {\"turska\": 4, \"latte\": 3, \"espresso\": 7, \"makiyato\": 5}. "
   ]
  },
  {
   "cell_type": "code",
   "execution_count": 28,
   "metadata": {},
   "outputs": [
    {
     "name": "stdout",
     "output_type": "stream",
     "text": [
      "Coffee served.\n",
      "Coffee served.\n",
      "Coffee served.\n",
      "Coffee served.\n",
      "Coffee served.\n",
      "Coffee served.\n",
      "Coffee served.\n",
      "Coffee served.\n"
     ]
    }
   ],
   "source": [
    "dict_kava = {\"turska\": 4, \"latte\": 3, \"espresso\": 7, \"makiyato\": 5}\n",
    "counter = 0\n",
    "\n",
    "import random\n",
    "\n",
    "def fetch_coffee():\n",
    "\trand_coffee = random.choice(list(dict_kava.keys()))\n",
    "\tdict_kava[rand_coffee] -= 1\n",
    "\tprint(\"Coffee served.\")\n",
    "\n",
    "def new_coffee():\n",
    "\tfor _ in range(3):\n",
    "\t\trand_coffee = random.choice(list(dict_kava.keys()))\n",
    "\t\tdict_kava[rand_coffee] += 1\n",
    "\n",
    "while True:\n",
    "\tinp = input(\"Enter 2kn or 5kn, q or 0 to quit: \")\n",
    "\tif inp == \"0\" or inp == \"q\":\n",
    "\t\tbreak\n",
    "\telif inp == \"2kn\":\n",
    "\t\tcounter += 2\n",
    "\t\tfetch_coffee()\n",
    "\telif inp == \"5kn\":\n",
    "\t\tcounter += 5\n",
    "\t\tfetch_coffee()\n",
    "\t\tfetch_coffee()\n",
    "\tif counter >= 20:\n",
    "\t\tcounter = 0\n",
    "\t\tnew_coffee()"
   ]
  },
  {
   "cell_type": "markdown",
   "metadata": {},
   "source": [
    "## zadatak 27\n",
    "\n",
    "nadogradite prethodni zadatak na nacin da ubacite u aparat i opciju za dodavanje mlijeka, secera ili meda u kavu. kada korisnik ubaci kovanicu, aparat ga treba pitati zeli li kavu sa dodatkom ili ne. postavite vrijednost svakog dodatka na 5, koristeci fromkeys. ukoliko korisnik zatrazi kavu sa sladilom kojega vise nema u aparatu, treba ispisati odgovarajucu poruku te ponuditi korisniku opciju bez dodatka ili povrat novca, nakon cega zavrsava sa izvodjenjem. u svim slucajevima treba se ispisati kakva je kava isporucena, sa kojim sladilom, koliko novca je ubaceno te koliki je iznos novca u aparatu nakon isporuke kave."
   ]
  },
  {
   "cell_type": "markdown",
   "metadata": {},
   "source": [
    "## zadatak 28\n",
    "\n",
    "Neka program omoguci unos do trenutka kad je unesen broj -1. Korisnik unosi stringove, a program vraca slucajne recenice iz zbirke mogucih odgovora."
   ]
  },
  {
   "cell_type": "code",
   "execution_count": null,
   "metadata": {},
   "outputs": [],
   "source": []
  },
  {
   "cell_type": "markdown",
   "metadata": {},
   "source": [
    "## zadatak 29\n",
    "\n",
    "napravite program koji ce simulirati izvlacenje karti iz spila. program mora imati sljedece:\n",
    "\n",
    "- spil od 20 karti\n",
    "- 4 razlicite boje\n",
    "- 5 brojeva za svaku boju\n",
    "\n",
    "program treba imati mogucnost povlacenja 3 karte, povlacenja 1 karte, mijesanja spila, zbrajanja bodova (brojevi na kartama).\n",
    "kreirajte izbornik sa mogucnoscu izbora opcije (zapocni igru, zavrsi igru) -> ako korisnik odabere \"zapocni igru\", spil se mijesa te se povlace 3 karte. igraca se zatim pita hoce li povuci dodatnu kartu ili ne. ako odabere novu kartu, ona se dodaje u ruku; u suprotnom se broj bodova usporedjuje sa protivnikom. koristeci random varijablu (12-20), kreirajte protivnika, gdje random varijabla predstavlja njegov broj bodova. program treba racunati trenutni broj bodova te ako on prelazi 20, ispisati \"izgubio si\" i pitati korisnika zeli li ponovno igrati ili ne. ukoliko igrac pobijedi, treba ispisati poruku: pobijedio si i postaviti pitanje za novom igrom"
   ]
  },
  {
   "cell_type": "markdown",
   "metadata": {},
   "source": [
    "## zadatak 70\n",
    "\n",
    "kreirajte password generator, koji mora sadrzavati sljedece funkcionalnosti:\n",
    "\n",
    "1. prilikom generiranja treba prikupiti sljedece podatke od korisnika:\n",
    "\n",
    "- koliko lozinki zeli napraviti\n",
    "- da li da koristi slova, brojeve, simbole\n",
    "- duljinu lozinke\n",
    "- kapitalizaciju\n",
    "\n",
    "2. nadogradite program tako da korisnik upise rijec (hint). od hint se treba ubaciti u nasumicnom redosljedu i kapitalizaciji u lozinku koja se generira"
   ]
  },
  {
   "cell_type": "markdown",
   "metadata": {},
   "source": [
    "## zadatak 71\n",
    "\n",
    "napravite tipicnog \"chat bota\" neke drzavne firme. bot treba primati input korisnika te ako se odredjena rijec u stringu poklapa sa nekim od njemu predefiniranih stringova ili rijeci, ispisati odgovarajucu poruku. npr. ako je korisnik unio \"pozdrav, ja sam Alen i radim za mirovinsko osiguranje\". bot treba kao prvi string ispisati: \"pozdrav, ja sam bot i napravljen pomocu AI\", zatim (zbog rijeci mirovinsko), ispisati: \" hrvatski zavod za mirovinsko osiguranje je trenutno na pauzi\". unesite po zelji 20ak razlicitih stringova te simulirajte neki razgovor/temu po zelji."
   ]
  },
  {
   "cell_type": "code",
   "execution_count": null,
   "metadata": {},
   "outputs": [],
   "source": []
  }
 ],
 "metadata": {
  "interpreter": {
   "hash": "31f2aee4e71d21fbe5cf8b01ff0e069b9275f58929596ceb00d14d90e3e16cd6"
  },
  "kernelspec": {
   "display_name": "Python 3.8.2 64-bit",
   "language": "python",
   "name": "python3"
  },
  "language_info": {
   "codemirror_mode": {
    "name": "ipython",
    "version": 3
   },
   "file_extension": ".py",
   "mimetype": "text/x-python",
   "name": "python",
   "nbconvert_exporter": "python",
   "pygments_lexer": "ipython3",
   "version": "3.8.2"
  },
  "orig_nbformat": 4
 },
 "nbformat": 4,
 "nbformat_minor": 2
}
