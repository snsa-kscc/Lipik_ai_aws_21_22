{
 "cells": [
  {
   "cell_type": "markdown",
   "metadata": {},
   "source": [
    "## zadatak 1"
   ]
  },
  {
   "cell_type": "code",
   "execution_count": 8,
   "metadata": {},
   "outputs": [
    {
     "data": {
      "text/plain": [
       "[2, 34, 4, 5, 6, 7, 8, 89]"
      ]
     },
     "execution_count": 8,
     "metadata": {},
     "output_type": "execute_result"
    }
   ],
   "source": [
    "li = [2,34,5,5,5,2,2,4,89,4,4,2,5,7,8,4,5,6]\n",
    "\n",
    "def remove_duplicates(e):\n",
    "\treturn list(set(e))\n",
    "\n",
    "remove_duplicates(li)\n"
   ]
  },
  {
   "cell_type": "markdown",
   "metadata": {},
   "source": [
    "## zadatak 2"
   ]
  },
  {
   "cell_type": "code",
   "execution_count": 48,
   "metadata": {},
   "outputs": [
    {
     "name": "stdout",
     "output_type": "stream",
     "text": [
      "g 4\n",
      "i 90\n",
      "t 66\n",
      "  90\n",
      "n 30\n",
      "l 71\n",
      "v 73\n",
      "i 41\n",
      "r 92\n",
      "  53\n",
      "a 65\n",
      "a 97\n",
      "e 36\n"
     ]
    }
   ],
   "source": [
    "import random\n",
    "\n",
    "string = \"nekakav proizvoljni string\"\n",
    "string_reversed = string[::-1]\n",
    "\n",
    "for i in string_reversed[::2]:\n",
    "\tprint(f\"{i} {str(random.randint(0,100))}\")\n"
   ]
  },
  {
   "cell_type": "markdown",
   "metadata": {},
   "source": [
    "## zadatak 3"
   ]
  },
  {
   "cell_type": "code",
   "execution_count": 78,
   "metadata": {},
   "outputs": [
    {
     "name": "stdout",
     "output_type": "stream",
     "text": [
      "21\n"
     ]
    }
   ],
   "source": [
    "awarded_points = [2,3,7,8,6,3,1]\n",
    "\n",
    "awarded_points.sort()\n",
    "\n",
    "sum_pts = 0\n",
    "for i in awarded_points[1:-1]:\n",
    "\tsum_pts += i\n",
    "\n",
    "print(sum_pts)\n"
   ]
  },
  {
   "cell_type": "markdown",
   "metadata": {},
   "source": [
    "## zadatak 4"
   ]
  },
  {
   "cell_type": "code",
   "execution_count": 82,
   "metadata": {},
   "outputs": [
    {
     "data": {
      "text/plain": [
       "[4, 9, 49, 64, 36, 9, 1]"
      ]
     },
     "execution_count": 82,
     "metadata": {},
     "output_type": "execute_result"
    }
   ],
   "source": [
    "rand_nums = [2,3,7,8,6,3,1]\n",
    "\n",
    "def get_square(e):\n",
    "\treturn [i**2 for i in e]\n",
    "\n",
    "get_square(rand_nums)"
   ]
  },
  {
   "cell_type": "markdown",
   "metadata": {},
   "source": [
    "## zadatak 5"
   ]
  },
  {
   "cell_type": "code",
   "execution_count": 88,
   "metadata": {},
   "outputs": [
    {
     "name": "stdout",
     "output_type": "stream",
     "text": [
      "[69, 1729, 420]\n",
      "['Python', 'C++', 'JavaScript', 'nesto']\n"
     ]
    }
   ],
   "source": [
    "str_and_num_li = ['Python', 69, 'C++', 1729, 'JavaScript', 420, 'nesto']\n",
    "\n",
    "def get_ints(e):\n",
    "\treturn [i for i in e if isinstance(i, int)]\n",
    "\n",
    "def get_strs(e):\n",
    "\treturn [i for i in e if isinstance(i, str)]\n",
    "\n",
    "print(get_ints(str_and_num_li))\n",
    "print(get_strs(str_and_num_li))\n"
   ]
  },
  {
   "cell_type": "markdown",
   "metadata": {},
   "source": [
    "## zadatak 6"
   ]
  },
  {
   "cell_type": "code",
   "execution_count": 94,
   "metadata": {},
   "outputs": [
    {
     "data": {
      "text/plain": [
       "[55, 45, 44]"
      ]
     },
     "execution_count": 94,
     "metadata": {},
     "output_type": "execute_result"
    }
   ],
   "source": [
    "def user_input():\n",
    "\tuser_list = []\n",
    "\twhile True:\n",
    "\t\tinp = int(input(\"Enter a word: \"))\n",
    "\t\tif inp == 0:\n",
    "\t\t\tbreak\n",
    "\t\tuser_list.append(inp)\n",
    "\treturn user_list\n",
    "\n",
    "user_input()\n"
   ]
  },
  {
   "cell_type": "code",
   "execution_count": null,
   "metadata": {},
   "outputs": [],
   "source": []
  }
 ],
 "metadata": {
  "interpreter": {
   "hash": "31f2aee4e71d21fbe5cf8b01ff0e069b9275f58929596ceb00d14d90e3e16cd6"
  },
  "kernelspec": {
   "display_name": "Python 3.8.2 64-bit",
   "language": "python",
   "name": "python3"
  },
  "language_info": {
   "codemirror_mode": {
    "name": "ipython",
    "version": 3
   },
   "file_extension": ".py",
   "mimetype": "text/x-python",
   "name": "python",
   "nbconvert_exporter": "python",
   "pygments_lexer": "ipython3",
   "version": "3.8.2"
  },
  "orig_nbformat": 4
 },
 "nbformat": 4,
 "nbformat_minor": 2
}
