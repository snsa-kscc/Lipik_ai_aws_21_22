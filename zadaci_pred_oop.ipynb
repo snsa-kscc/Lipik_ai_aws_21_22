{
 "cells": [
  {
   "cell_type": "markdown",
   "metadata": {},
   "source": [
    "## zadatak 1\n",
    "\n",
    "Napiši program koji učitava listu i briše sve duplikate iz te liste te ispisuje novu listu s \n",
    "obrisanim duplikatima."
   ]
  },
  {
   "cell_type": "code",
   "execution_count": 1,
   "metadata": {},
   "outputs": [
    {
     "data": {
      "text/plain": [
       "[1729, 2, 34, 4, 5, 6, 7, 8, 69, 42, 420, 89]"
      ]
     },
     "execution_count": 1,
     "metadata": {},
     "output_type": "execute_result"
    }
   ],
   "source": [
    "li = [2,34,5,5,5,2,2,4,89,4,4,2,5,7,8,4,5,6,69,42,420,1729]\n",
    "\n",
    "def remove_duplicates(e):\n",
    "\treturn list(set(e))\n",
    "\n",
    "remove_duplicates(li)"
   ]
  },
  {
   "cell_type": "markdown",
   "metadata": {},
   "source": [
    "## zadatak 2\n",
    "\n",
    "Napravi obrtaljku od unesenog stringa te na svakom drugom mjestu pridruzi nasumičan broj."
   ]
  },
  {
   "cell_type": "code",
   "execution_count": 2,
   "metadata": {},
   "outputs": [
    {
     "name": "stdout",
     "output_type": "stream",
     "text": [
      "g 11\n",
      "i 43\n",
      "t 87\n",
      "  79\n",
      "n 64\n",
      "l 26\n",
      "v 15\n",
      "i 92\n",
      "r 22\n",
      "  66\n",
      "a 60\n",
      "a 20\n",
      "e 46\n"
     ]
    }
   ],
   "source": [
    "import random\n",
    "\n",
    "string = \"nekakav proizvoljni string\"\n",
    "string_reversed = string[::-1]\n",
    "\n",
    "for i in string_reversed[::2]:\n",
    "\tprint(f\"{i} {str(random.randint(0,100))}\")"
   ]
  },
  {
   "cell_type": "markdown",
   "metadata": {},
   "source": [
    "## zadatak 3\n",
    "\n",
    "Napiši program koji upisuje bodove n plesnih natjecanja. Ispiši zbroj svih bodova tako da odbaciš \n",
    "najbolji i najlošiji rezultat."
   ]
  },
  {
   "cell_type": "code",
   "execution_count": 3,
   "metadata": {},
   "outputs": [
    {
     "name": "stdout",
     "output_type": "stream",
     "text": [
      "21\n"
     ]
    }
   ],
   "source": [
    "awarded_points = [2,3,7,8,6,3,1]\n",
    "\n",
    "awarded_points.sort()\n",
    "\n",
    "sum_pts = 0\n",
    "for i in awarded_points[1:-1]:\n",
    "\tsum_pts += i\n",
    "\n",
    "print(sum_pts)"
   ]
  },
  {
   "cell_type": "markdown",
   "metadata": {},
   "source": [
    "## zadatak 4\n",
    "\n",
    "Kreiraj listu brojeva i pretvori svaki element u listi u njegov kvadrat"
   ]
  },
  {
   "cell_type": "code",
   "execution_count": 4,
   "metadata": {},
   "outputs": [
    {
     "data": {
      "text/plain": [
       "[4, 9, 49, 64, 36, 9, 1]"
      ]
     },
     "execution_count": 4,
     "metadata": {},
     "output_type": "execute_result"
    }
   ],
   "source": [
    "rand_nums = [2,3,7,8,6,3,1]\n",
    "\n",
    "def get_square(e):\n",
    "\treturn [i**2 for i in e]\n",
    "\n",
    "get_square(rand_nums)"
   ]
  },
  {
   "cell_type": "markdown",
   "metadata": {},
   "source": [
    "## zadatak 5\n",
    "\n",
    "Kreiraj listu koja se sastoji od stringova i brojeva, te odvoji brojeve i stringove u zasebne liste"
   ]
  },
  {
   "cell_type": "code",
   "execution_count": 5,
   "metadata": {},
   "outputs": [
    {
     "name": "stdout",
     "output_type": "stream",
     "text": [
      "[69, 1729, 420]\n",
      "['Python', 'C++', 'JavaScript', 'nesto']\n"
     ]
    }
   ],
   "source": [
    "str_and_num_li = ['Python', 69, 'C++', 1729, 'JavaScript', 420, 'nesto']\n",
    "\n",
    "def get_ints(e):\n",
    "\treturn [i for i in e if isinstance(i, int)]\n",
    "\n",
    "def get_strs(e):\n",
    "\treturn [i for i in e if isinstance(i, str)]\n",
    "\n",
    "print(get_ints(str_and_num_li))\n",
    "print(get_strs(str_and_num_li))"
   ]
  },
  {
   "cell_type": "markdown",
   "metadata": {},
   "source": [
    "## zadatak 6\n",
    "\n",
    "S tipkovnice učitavajte cijele brojeve. Prvi upisani broj može biti bilo \n",
    "koji cijeli broj. Učitavanje ponavljati dok god je upisani broj strogo \n",
    "veći od prethodno upisanog broja. Ispisati sumu svih učitanih brojeva \n",
    "osim broja zbog kojeg je prekinuto učitavanje."
   ]
  },
  {
   "cell_type": "code",
   "execution_count": 10,
   "metadata": {},
   "outputs": [
    {
     "data": {
      "text/plain": [
       "(20, [5, 6, 9, 5])"
      ]
     },
     "execution_count": 10,
     "metadata": {},
     "output_type": "execute_result"
    }
   ],
   "source": [
    "user_list = []\n",
    "\n",
    "def user_input():\n",
    "\twhile True:\n",
    "\t\tinp = int(input(\"Enter a word: \"))\n",
    "\t\tuser_list.append(inp)\n",
    "\t\tif user_list[len(user_list) - 1] < user_list[len(user_list) - 2]:\n",
    "\t\t\tbreak\n",
    "\ttotal = 0\n",
    "\tfor i in range(len(user_list) - 1):\n",
    "\t\ttotal += user_list[i]\n",
    "\treturn total, user_list\n",
    "\n",
    "user_input()"
   ]
  },
  {
   "cell_type": "markdown",
   "metadata": {},
   "source": [
    "## zadatak 7\n",
    "\n",
    "Učitajte s tipkovnice 2 niza znakova, svaki od tih nizova znakova \n",
    "spremite u zasebnu varijablu. Ispišite indekse na kojima se pojavljuju \n",
    "ista slova neovisno o veličini ('a' i 'A' tretirati jednako)."
   ]
  },
  {
   "cell_type": "code",
   "execution_count": 16,
   "metadata": {},
   "outputs": [
    {
     "name": "stdout",
     "output_type": "stream",
     "text": [
      "2\n"
     ]
    }
   ],
   "source": [
    "first_srt = \"tjhreWEt\"\n",
    "second_str = \"dfHJflhdsj\"\n",
    "\n",
    "for i, (first_idx, second_idx) in enumerate(zip(first_srt, second_str)):\n",
    "\tif first_idx.lower() == second_idx.lower():\n",
    "\t\tprint(i)"
   ]
  },
  {
   "cell_type": "markdown",
   "metadata": {},
   "source": [
    "## zadatak 8\n",
    "\n",
    "Napišite program koji s tipkovnice učitava proizvoljni cijeli \n",
    "troznamenkasti broj. Ako učitani broj nije troznamenkasti, ispišite \n",
    "poruku o greški i prekinite daljnje izvođenje programa. U slučaju da \n",
    "je učitani broj ispravan, ispišite prvi sljedeći troznamenkasti \n",
    "palindrom. Na primjer, ako je učitani broj 120, prvi sljedeći palindrom \n",
    "je 121."
   ]
  },
  {
   "cell_type": "code",
   "execution_count": 3,
   "metadata": {},
   "outputs": [
    {
     "data": {
      "text/plain": [
       "232"
      ]
     },
     "execution_count": 3,
     "metadata": {},
     "output_type": "execute_result"
    }
   ],
   "source": [
    "def is_palindrome(num):\n",
    "\treturn str(num) == str(num)[::-1]\n",
    "\n",
    "def closest_palindrome(num):\n",
    "\tif len(str(num)) == 3:\n",
    "\t\tnext_palindrome = num + 1\n",
    "\t\twhile not is_palindrome(next_palindrome):\n",
    "\t\t\tnext_palindrome += 1\n",
    "\t\treturn next_palindrome\n",
    "\telse:\n",
    "\t\tprint(f\"{num} is invalid number for given condition!\")\n",
    "\n",
    "closest_palindrome(int(input(\"Enter a 3 digit number: \")))"
   ]
  },
  {
   "cell_type": "markdown",
   "metadata": {},
   "source": [
    "## zadatak 9\n",
    "\n",
    "Napišite program koji učitava cijele brojeve sve dok je unesena \n",
    "vrijednost veća od 0. Pronađite koji od učitanih brojeva ima najmanju \n",
    "sumu znamenki te ispišite taj broj i sumu."
   ]
  },
  {
   "cell_type": "code",
   "execution_count": 1,
   "metadata": {},
   "outputs": [
    {
     "name": "stdout",
     "output_type": "stream",
     "text": [
      "22\n",
      "4\n"
     ]
    }
   ],
   "source": [
    "def get_digit_sum(e):\n",
    "\tsum = 0\n",
    "\tfor digit in str(e): \n",
    "\t\tsum += int(digit)\n",
    "\treturn sum\n",
    "\n",
    "def list_sum():\n",
    "\tsum_list = []\n",
    "\tfor i in li:\n",
    "\t\tsum_list.append(get_digit_sum(i))\n",
    "\treturn sum_list\n",
    "\n",
    "li = []\n",
    "while True:\n",
    "\tinp = int(input(\"Enter a number bigger than 0: \"))\n",
    "\tif inp < 0:\n",
    "\t\tbreak\n",
    "\telse:\n",
    "\t\tli.append(inp)\n",
    "\n",
    "print(min(li))\n",
    "\n",
    "print(min(list_sum()))"
   ]
  },
  {
   "cell_type": "markdown",
   "metadata": {},
   "source": [
    "## zadatak 10\n",
    "\n",
    "S tipkovnice učitajte proizvoljni niz znakova. Kreirajte novi niz \n",
    "znakova koji će sadržavati naizmjence velika i mala slova iz ulaznog \n",
    "niza, redom kako se pojavljuju u ulaznom nizu: prvo veliko slovo u \n",
    "ulaznom nizu, prvo sljedeće malo slovo u nastavku ulaznog niza, \n",
    "prvo sljedeće veliko slovo u nastavku ulaznog niza itd. Novokreirani \n",
    "niz ispišite na zaslon. U nastavku se nalazi primjer:\n",
    "\n",
    "Ulazni niz: ifeFemFEkej83FkW\n",
    "Izlazni niz: FeFkFkW"
   ]
  },
  {
   "cell_type": "code",
   "execution_count": 12,
   "metadata": {},
   "outputs": [
    {
     "name": "stdout",
     "output_type": "stream",
     "text": [
      "FeFkFkW\n"
     ]
    }
   ],
   "source": [
    "input_string = \"ifeFemFEkej83FkW\"\n",
    "output_string = \"\"\n",
    "\n",
    "upper_case = True\n",
    "\n",
    "for i in input_string:\n",
    "\tif \"A\" < i < \"Z\" and upper_case:\n",
    "\t\toutput_string += i\n",
    "\t\tupper_case = False\n",
    "\telif \"a\" < i < \"z\" and not upper_case:\n",
    "\t\toutput_string += i\n",
    "\t\tupper_case = True\n",
    "\n",
    "print(output_string)"
   ]
  },
  {
   "cell_type": "markdown",
   "metadata": {},
   "source": [
    "## zadatak 11\n",
    "\n",
    "Napišite program koji s tipkovnice učitava cijeli broj n iz intervala [3, \n",
    "20]. U slučaju da je unesena vrijednost neispravna, ispisati prikladnu \n",
    "poruku na ekran te zatražiti ponovni unos cijelog broja. Nakon \n",
    "učitane vrijednosti n, učitajte n parova cijelih brojeva. Nakon što je n\n",
    "parova brojeva učitano, ispišite parove brojeva koji imaju najveću \n",
    "sumu."
   ]
  },
  {
   "cell_type": "code",
   "execution_count": null,
   "metadata": {},
   "outputs": [],
   "source": []
  },
  {
   "cell_type": "markdown",
   "metadata": {},
   "source": [
    "## zadatak 12\n",
    "\n",
    "Napišite program koji s tipkovnice učitava proizvoljni niz znakova. \n",
    "Nad učitanim nizom znakova napravite analizu je li taj niz palindrom \n",
    "ili nije. Niz je palindrom ako se isto čita slijeva nadesno ili pak \n",
    "zdesna nalijevo."
   ]
  },
  {
   "cell_type": "code",
   "execution_count": 26,
   "metadata": {},
   "outputs": [
    {
     "data": {
      "text/plain": [
       "True"
      ]
     },
     "execution_count": 26,
     "metadata": {},
     "output_type": "execute_result"
    }
   ],
   "source": [
    "inp = input(\"Enter something: \")\n",
    "\n",
    "def is_palindrome(e):\n",
    "\treturn e == e[::-1]\n",
    "\n",
    "is_palindrome(inp)"
   ]
  },
  {
   "cell_type": "markdown",
   "metadata": {},
   "source": [
    "## zadatak 13\n",
    "\n",
    "Napišite program koji će inicijalizirati varijablu n na proizvoljnu \n",
    "cjelobrojnu vrijednost. Vrijednost varijable n neka predstavlja red \n",
    "tablice. Ispisati tablicu veličine n redaka i n stupaca. Vrijednost 1 \n",
    "neka se nalazi na glavnoj dijagonali, a vrijednost 0 na svim ostalim \n",
    "mjestima. U nastavku slijedi primjer za n=5:\n",
    "\n",
    "```\n",
    "1 0 0 0 0\n",
    "0 1 0 0 0\n",
    "0 0 1 0 0\n",
    "0 0 0 1 0\n",
    "0 0 0 0 1\n",
    "```\n",
    "\n",
    "Napomena: za ispis vrijednost, tako da se nakon ispisa vrijednosti \n",
    "dane print() funkciji ne ispiše novi redak koristiti sljedeću \n",
    "sintaksu: print(vrijednost, end='')\n"
   ]
  },
  {
   "cell_type": "code",
   "execution_count": 60,
   "metadata": {},
   "outputs": [
    {
     "name": "stdout",
     "output_type": "stream",
     "text": [
      "1 0 0 0 0 \n",
      "0 1 0 0 0 \n",
      "0 0 1 0 0 \n",
      "0 0 0 1 0 \n",
      "0 0 0 0 1 \n"
     ]
    }
   ],
   "source": [
    "def draw_board(n):\n",
    "\tfor i in range(n):\n",
    "\t\tfor j in range(n):\n",
    "\t\t\tif i == j:\n",
    "\t\t\t\tprint(\"1\", end = \" \")\n",
    "\t\t\telse:\n",
    "\t\t\t\tprint(\"0\", end = \" \")\n",
    "\t\tprint()\n",
    "\n",
    "draw_board(5)"
   ]
  },
  {
   "cell_type": "markdown",
   "metadata": {},
   "source": [
    "## zadatak 14\n",
    "\n",
    "Odaberite proizvoljno koordinatu T=(x,y), vrijednosti varijabli x\n",
    "(stupac) i y (redak) neka budu manje od 10. Program neka ispiše \n",
    "polje 10x10 čiji su svi elementi vrijednosti \"-\" osim koordinate T čija \n",
    "je vrijednost \"X\". \n",
    "\n",
    "```\n",
    "\n",
    "Primjer: T=(1,1)\n",
    "- - - - - - - - - -\n",
    "- X - - - - - - - -\n",
    "- - - - - - - - - -\n",
    "- - - - - - - - - -\n",
    "- - - - - - - - - -\n",
    "- - - - - - - - - -\n",
    "- - - - - - - - - -\n",
    "- - - - - - - - - -\n",
    "- - - - - - - - - -\n",
    "- - - - - - - - - -\n",
    "```"
   ]
  },
  {
   "cell_type": "code",
   "execution_count": 10,
   "metadata": {},
   "outputs": [
    {
     "name": "stdout",
     "output_type": "stream",
     "text": [
      "- - - - - - - - - - \n",
      "- - - - - - - - - - \n",
      "- - - - - - - - - - \n",
      "- - - - - - - - - - \n",
      "- - - - - - - - - - \n",
      "- - - - - x - - - - \n",
      "- - - - - - - - - - \n",
      "- - - - - - - - - - \n",
      "- - - - - - - - - - \n",
      "- - - - - - - - - - \n"
     ]
    }
   ],
   "source": [
    "def print_coordinates(x, y):\n",
    "\tfor i in range(10):\n",
    "\t\tfor j in range(10):\n",
    "\t\t\tif i == x and j == y:\n",
    "\t\t\t\tprint(\"x\", end = \" \")\n",
    "\t\t\telse:\n",
    "\t\t\t\tprint(\"-\", end = \" \")\n",
    "\t\tprint()\n",
    "\n",
    "print_coordinates(5, 5)"
   ]
  },
  {
   "cell_type": "markdown",
   "metadata": {},
   "source": [
    "## zadatak 15\n",
    "\n",
    "Napišite program koji ispisuje koliko ima prostih brojeva između \n",
    "dva proizvoljna broja (prost broj je broj koji je djeljiv samo sa 1 i sa samim sobom)."
   ]
  },
  {
   "cell_type": "code",
   "execution_count": 164,
   "metadata": {},
   "outputs": [
    {
     "data": {
      "text/plain": [
       "[2, 3, 5, 7, 11, 13, 17, 19, 23, 29, 31, 37, 41, 43, 47]"
      ]
     },
     "execution_count": 164,
     "metadata": {},
     "output_type": "execute_result"
    }
   ],
   "source": [
    "def is_prime(x):\n",
    "\tif x < 2:\n",
    "\t\treturn False\n",
    "\tfor i in range(2, x):\n",
    "\t\tif x % i == 0:\n",
    "\t\t\treturn False\n",
    "\treturn True\n",
    "\n",
    "def prime_nums(min, max):\n",
    "\treturn [i for i in range(min, max + 1) if is_prime(i)]\n",
    "\n",
    "prime_nums(2, 50)"
   ]
  },
  {
   "cell_type": "markdown",
   "metadata": {},
   "source": [
    "## zadatak 16\n",
    "\n",
    "Napišite program koji sadrži varijablu u kojoj je upisan proizvoljni \n",
    "niz znakova i brojčanu varijablu n. Provjerite je li vrijednost varijable \n",
    "n manja od broja znakova u nizu. Ako je vrijednost varijable n veća \n",
    "ispišite informaciju o grešci. Ispišite iz niza znakova svako n-to \n",
    "slovo. Na primjer, ulazni niz je \"ABCDEFGH\", n je 2, tada je izlaz \n",
    "\"ACEG\"."
   ]
  },
  {
   "cell_type": "code",
   "execution_count": 27,
   "metadata": {},
   "outputs": [
    {
     "name": "stdout",
     "output_type": "stream",
     "text": [
      "['A', 'C', 'E', 'G']\n"
     ]
    }
   ],
   "source": [
    "n = 2\n",
    "string = \"ABCDEFGH\"\n",
    "\n",
    "def string_checker(string, n):\n",
    "\tli = []\n",
    "\tif n > len(string):\n",
    "\t\tprint(\"Error. N is bigger than string.\")\n",
    "\telse:\n",
    "\t\tfor i, j in enumerate(string):\n",
    "\t\t\tif i % n == 0:\n",
    "\t\t\t\tli.append(j)\n",
    "\treturn li\n",
    "\n",
    "print(string_checker(string, n))"
   ]
  },
  {
   "cell_type": "markdown",
   "metadata": {},
   "source": [
    "## zadatak 17\n",
    "\n",
    "Napišite program koji sadrži varijablu u kojoj je upisan proizvoljni niz \n",
    "znakova. Ispišite koliko velikih slova se nalazi u nizu. Ako je neko od \n",
    "unesenih slova u nizu \"A\", brojanje velikih slova je potrebno prekinuti \n",
    "i ispisati informaciju da je veliko slovo \"A\" pronađeno.\n"
   ]
  },
  {
   "cell_type": "code",
   "execution_count": 31,
   "metadata": {},
   "outputs": [
    {
     "name": "stdout",
     "output_type": "stream",
     "text": [
      "Letter A found.\n",
      "3\n"
     ]
    }
   ],
   "source": [
    "string = \"fhVfGtDsdAfjQWongS\"\n",
    "counter = 0\n",
    "\n",
    "for i in string:\n",
    "    if i == 'A':\n",
    "        print(\"Letter A found.\")\n",
    "        break\n",
    "    if i.isupper():\n",
    "        counter += 1\n",
    "\n",
    "print(counter)"
   ]
  },
  {
   "cell_type": "markdown",
   "metadata": {},
   "source": [
    "## zadatak 18\n",
    "\n",
    "Ispišite sve parne brojeve između 1 i 1000 koju su istovremeno \n",
    "djeljivi i s 5 i s 13."
   ]
  },
  {
   "cell_type": "code",
   "execution_count": 38,
   "metadata": {},
   "outputs": [
    {
     "name": "stdout",
     "output_type": "stream",
     "text": [
      "130\n",
      "260\n",
      "390\n",
      "520\n",
      "650\n",
      "780\n",
      "910\n"
     ]
    }
   ],
   "source": [
    "def divisable_nums():\n",
    "\tli = [i for i in range(1, 1001) if i % 5 == 0 and i % 13 == 0]\n",
    "\tfor j in li:\n",
    "\t\tif j % 2 == 0:\n",
    "\t\t\tprint(j)\n",
    "\n",
    "divisable_nums()"
   ]
  },
  {
   "cell_type": "markdown",
   "metadata": {},
   "source": [
    "## zadatak 19\n",
    "\n",
    "Napisi program koji unosi n brojeva i od znamenke desetice svakog broja stvara novi broj."
   ]
  },
  {
   "cell_type": "code",
   "execution_count": null,
   "metadata": {},
   "outputs": [],
   "source": []
  },
  {
   "cell_type": "markdown",
   "metadata": {},
   "source": [
    "## zadatak 20\n",
    "\n",
    "Napisi program koji unosi n brojeva i sastavlja novi broj od najvece znamenke u svakom od\n",
    "brojeva"
   ]
  },
  {
   "cell_type": "code",
   "execution_count": null,
   "metadata": {},
   "outputs": [],
   "source": []
  },
  {
   "cell_type": "markdown",
   "metadata": {},
   "source": [
    "## zadatak 21\n",
    "\n",
    "Ispišite sljedeće primjere koristeći funkcije i petlju. funkcija mora primati varijabilan broj redaka koji ispisuje (npr. pod a), unesen broj je 7, jer ima 7 redaka. pod b) je unesen broj 5, jer ima 5 redaka)\n",
    "\n",
    "```\n",
    "a)\n",
    "\n",
    "*\n",
    "**\n",
    "***\n",
    "****\n",
    "***\n",
    "**\n",
    "*\n",
    "\n",
    "b)\n",
    "\n",
    "  *  \n",
    " *** \n",
    "*****\n",
    " *** \n",
    "  * \n",
    "c)\n",
    "1010101\n",
    " 10101 \n",
    "  101  \n",
    "   1  \n",
    "d) \n",
    "x x x x\n",
    "x x x\n",
    "x x\n",
    "x\n",
    "x x\n",
    "x x x\n",
    "x x x x\n",
    "```"
   ]
  },
  {
   "cell_type": "code",
   "execution_count": null,
   "metadata": {},
   "outputs": [],
   "source": []
  },
  {
   "cell_type": "markdown",
   "metadata": {},
   "source": [
    "## zadatak 22\n",
    "\n",
    "Napišite program za koji traži najveći zajednički djelitelj dvaju brojeva"
   ]
  },
  {
   "cell_type": "code",
   "execution_count": 47,
   "metadata": {},
   "outputs": [
    {
     "data": {
      "text/plain": [
       "6"
      ]
     },
     "execution_count": 47,
     "metadata": {},
     "output_type": "execute_result"
    }
   ],
   "source": [
    "def gcd(a, b):\n",
    "\twhile b:\n",
    "\t\ta, b = b, a % b\n",
    "\treturn a\n",
    "\n",
    "gcd(12, 18)"
   ]
  }
 ],
 "metadata": {
  "interpreter": {
   "hash": "31f2aee4e71d21fbe5cf8b01ff0e069b9275f58929596ceb00d14d90e3e16cd6"
  },
  "kernelspec": {
   "display_name": "Python 3.8.2 64-bit",
   "language": "python",
   "name": "python3"
  },
  "language_info": {
   "codemirror_mode": {
    "name": "ipython",
    "version": 3
   },
   "file_extension": ".py",
   "mimetype": "text/x-python",
   "name": "python",
   "nbconvert_exporter": "python",
   "pygments_lexer": "ipython3",
   "version": "3.8.2"
  },
  "orig_nbformat": 4
 },
 "nbformat": 4,
 "nbformat_minor": 2
}
